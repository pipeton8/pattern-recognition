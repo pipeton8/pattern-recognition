{
  "nbformat": 4,
  "nbformat_minor": 0,
  "metadata": {
    "colab": {
      "name": "assignment2_fdc.ipynb",
      "provenance": [],
      "collapsed_sections": [],
      "toc_visible": true,
      "authorship_tag": "ABX9TyND7nsZoBxRVdIv8/jILDT0",
      "include_colab_link": true
    },
    "kernelspec": {
      "display_name": "Python 3",
      "name": "python3"
    },
    "language_info": {
      "name": "python"
    },
    "widgets": {
      "application/vnd.jupyter.widget-state+json": {
        "e92f2dc0edf34e73a71a7a54497ecadc": {
          "model_module": "@jupyter-widgets/controls",
          "model_name": "HBoxModel",
          "state": {
            "_view_name": "HBoxView",
            "_dom_classes": [],
            "_model_name": "HBoxModel",
            "_view_module": "@jupyter-widgets/controls",
            "_model_module_version": "1.5.0",
            "_view_count": null,
            "_view_module_version": "1.5.0",
            "box_style": "",
            "layout": "IPY_MODEL_12465e1770164cee9aa1115bde989d79",
            "_model_module": "@jupyter-widgets/controls",
            "children": [
              "IPY_MODEL_6d33e8fcabbd4cc4a1cba56297df88f0",
              "IPY_MODEL_a758fa4750cb4385b36e07eda319a3e8"
            ]
          }
        },
        "12465e1770164cee9aa1115bde989d79": {
          "model_module": "@jupyter-widgets/base",
          "model_name": "LayoutModel",
          "state": {
            "_view_name": "LayoutView",
            "grid_template_rows": null,
            "right": null,
            "justify_content": null,
            "_view_module": "@jupyter-widgets/base",
            "overflow": null,
            "_model_module_version": "1.2.0",
            "_view_count": null,
            "flex_flow": null,
            "width": null,
            "min_width": null,
            "border": null,
            "align_items": null,
            "bottom": null,
            "_model_module": "@jupyter-widgets/base",
            "top": null,
            "grid_column": null,
            "overflow_y": null,
            "overflow_x": null,
            "grid_auto_flow": null,
            "grid_area": null,
            "grid_template_columns": null,
            "flex": null,
            "_model_name": "LayoutModel",
            "justify_items": null,
            "grid_row": null,
            "max_height": null,
            "align_content": null,
            "visibility": null,
            "align_self": null,
            "height": null,
            "min_height": null,
            "padding": null,
            "grid_auto_rows": null,
            "grid_gap": null,
            "max_width": null,
            "order": null,
            "_view_module_version": "1.2.0",
            "grid_template_areas": null,
            "object_position": null,
            "object_fit": null,
            "grid_auto_columns": null,
            "margin": null,
            "display": null,
            "left": null
          }
        },
        "6d33e8fcabbd4cc4a1cba56297df88f0": {
          "model_module": "@jupyter-widgets/controls",
          "model_name": "FloatProgressModel",
          "state": {
            "_view_name": "ProgressView",
            "style": "IPY_MODEL_95476621ee7c4239bdaf362e966d75b3",
            "_dom_classes": [],
            "description": "100%",
            "_model_name": "FloatProgressModel",
            "bar_style": "success",
            "max": 3,
            "_view_module": "@jupyter-widgets/controls",
            "_model_module_version": "1.5.0",
            "value": 3,
            "_view_count": null,
            "_view_module_version": "1.5.0",
            "orientation": "horizontal",
            "min": 0,
            "description_tooltip": null,
            "_model_module": "@jupyter-widgets/controls",
            "layout": "IPY_MODEL_76b0fe615ce0455baf33f6b2353dad08"
          }
        },
        "a758fa4750cb4385b36e07eda319a3e8": {
          "model_module": "@jupyter-widgets/controls",
          "model_name": "HTMLModel",
          "state": {
            "_view_name": "HTMLView",
            "style": "IPY_MODEL_e295e303969746be8d0df4e3659c0ca2",
            "_dom_classes": [],
            "description": "",
            "_model_name": "HTMLModel",
            "placeholder": "​",
            "_view_module": "@jupyter-widgets/controls",
            "_model_module_version": "1.5.0",
            "value": " 3/3 [00:00&lt;00:00,  9.74it/s]",
            "_view_count": null,
            "_view_module_version": "1.5.0",
            "description_tooltip": null,
            "_model_module": "@jupyter-widgets/controls",
            "layout": "IPY_MODEL_63f30c6d3ff24290a1507658f7d6642c"
          }
        },
        "95476621ee7c4239bdaf362e966d75b3": {
          "model_module": "@jupyter-widgets/controls",
          "model_name": "ProgressStyleModel",
          "state": {
            "_view_name": "StyleView",
            "_model_name": "ProgressStyleModel",
            "description_width": "initial",
            "_view_module": "@jupyter-widgets/base",
            "_model_module_version": "1.5.0",
            "_view_count": null,
            "_view_module_version": "1.2.0",
            "bar_color": null,
            "_model_module": "@jupyter-widgets/controls"
          }
        },
        "76b0fe615ce0455baf33f6b2353dad08": {
          "model_module": "@jupyter-widgets/base",
          "model_name": "LayoutModel",
          "state": {
            "_view_name": "LayoutView",
            "grid_template_rows": null,
            "right": null,
            "justify_content": null,
            "_view_module": "@jupyter-widgets/base",
            "overflow": null,
            "_model_module_version": "1.2.0",
            "_view_count": null,
            "flex_flow": null,
            "width": null,
            "min_width": null,
            "border": null,
            "align_items": null,
            "bottom": null,
            "_model_module": "@jupyter-widgets/base",
            "top": null,
            "grid_column": null,
            "overflow_y": null,
            "overflow_x": null,
            "grid_auto_flow": null,
            "grid_area": null,
            "grid_template_columns": null,
            "flex": null,
            "_model_name": "LayoutModel",
            "justify_items": null,
            "grid_row": null,
            "max_height": null,
            "align_content": null,
            "visibility": null,
            "align_self": null,
            "height": null,
            "min_height": null,
            "padding": null,
            "grid_auto_rows": null,
            "grid_gap": null,
            "max_width": null,
            "order": null,
            "_view_module_version": "1.2.0",
            "grid_template_areas": null,
            "object_position": null,
            "object_fit": null,
            "grid_auto_columns": null,
            "margin": null,
            "display": null,
            "left": null
          }
        },
        "e295e303969746be8d0df4e3659c0ca2": {
          "model_module": "@jupyter-widgets/controls",
          "model_name": "DescriptionStyleModel",
          "state": {
            "_view_name": "StyleView",
            "_model_name": "DescriptionStyleModel",
            "description_width": "",
            "_view_module": "@jupyter-widgets/base",
            "_model_module_version": "1.5.0",
            "_view_count": null,
            "_view_module_version": "1.2.0",
            "_model_module": "@jupyter-widgets/controls"
          }
        },
        "63f30c6d3ff24290a1507658f7d6642c": {
          "model_module": "@jupyter-widgets/base",
          "model_name": "LayoutModel",
          "state": {
            "_view_name": "LayoutView",
            "grid_template_rows": null,
            "right": null,
            "justify_content": null,
            "_view_module": "@jupyter-widgets/base",
            "overflow": null,
            "_model_module_version": "1.2.0",
            "_view_count": null,
            "flex_flow": null,
            "width": null,
            "min_width": null,
            "border": null,
            "align_items": null,
            "bottom": null,
            "_model_module": "@jupyter-widgets/base",
            "top": null,
            "grid_column": null,
            "overflow_y": null,
            "overflow_x": null,
            "grid_auto_flow": null,
            "grid_area": null,
            "grid_template_columns": null,
            "flex": null,
            "_model_name": "LayoutModel",
            "justify_items": null,
            "grid_row": null,
            "max_height": null,
            "align_content": null,
            "visibility": null,
            "align_self": null,
            "height": null,
            "min_height": null,
            "padding": null,
            "grid_auto_rows": null,
            "grid_gap": null,
            "max_width": null,
            "order": null,
            "_view_module_version": "1.2.0",
            "grid_template_areas": null,
            "object_position": null,
            "object_fit": null,
            "grid_auto_columns": null,
            "margin": null,
            "display": null,
            "left": null
          }
        },
        "06f4080236c44764af5f8fcabbc60b22": {
          "model_module": "@jupyter-widgets/controls",
          "model_name": "HBoxModel",
          "state": {
            "_view_name": "HBoxView",
            "_dom_classes": [],
            "_model_name": "HBoxModel",
            "_view_module": "@jupyter-widgets/controls",
            "_model_module_version": "1.5.0",
            "_view_count": null,
            "_view_module_version": "1.5.0",
            "box_style": "",
            "layout": "IPY_MODEL_71684c4eff564074a90936427dc292e3",
            "_model_module": "@jupyter-widgets/controls",
            "children": [
              "IPY_MODEL_f16725718ebb423db792abc0381bf6ee",
              "IPY_MODEL_d48c118c1ba245508742af030e6ebf1c"
            ]
          }
        },
        "71684c4eff564074a90936427dc292e3": {
          "model_module": "@jupyter-widgets/base",
          "model_name": "LayoutModel",
          "state": {
            "_view_name": "LayoutView",
            "grid_template_rows": null,
            "right": null,
            "justify_content": null,
            "_view_module": "@jupyter-widgets/base",
            "overflow": null,
            "_model_module_version": "1.2.0",
            "_view_count": null,
            "flex_flow": null,
            "width": null,
            "min_width": null,
            "border": null,
            "align_items": null,
            "bottom": null,
            "_model_module": "@jupyter-widgets/base",
            "top": null,
            "grid_column": null,
            "overflow_y": null,
            "overflow_x": null,
            "grid_auto_flow": null,
            "grid_area": null,
            "grid_template_columns": null,
            "flex": null,
            "_model_name": "LayoutModel",
            "justify_items": null,
            "grid_row": null,
            "max_height": null,
            "align_content": null,
            "visibility": null,
            "align_self": null,
            "height": null,
            "min_height": null,
            "padding": null,
            "grid_auto_rows": null,
            "grid_gap": null,
            "max_width": null,
            "order": null,
            "_view_module_version": "1.2.0",
            "grid_template_areas": null,
            "object_position": null,
            "object_fit": null,
            "grid_auto_columns": null,
            "margin": null,
            "display": null,
            "left": null
          }
        },
        "f16725718ebb423db792abc0381bf6ee": {
          "model_module": "@jupyter-widgets/controls",
          "model_name": "FloatProgressModel",
          "state": {
            "_view_name": "ProgressView",
            "style": "IPY_MODEL_e04b86a3d81b44e9a64c0d9ab484f129",
            "_dom_classes": [],
            "description": "100%",
            "_model_name": "FloatProgressModel",
            "bar_style": "success",
            "max": 3,
            "_view_module": "@jupyter-widgets/controls",
            "_model_module_version": "1.5.0",
            "value": 3,
            "_view_count": null,
            "_view_module_version": "1.5.0",
            "orientation": "horizontal",
            "min": 0,
            "description_tooltip": null,
            "_model_module": "@jupyter-widgets/controls",
            "layout": "IPY_MODEL_73cad11bab9c475d831f19f9741706a4"
          }
        },
        "d48c118c1ba245508742af030e6ebf1c": {
          "model_module": "@jupyter-widgets/controls",
          "model_name": "HTMLModel",
          "state": {
            "_view_name": "HTMLView",
            "style": "IPY_MODEL_b9e50630fd6246b0a41f439ca2200516",
            "_dom_classes": [],
            "description": "",
            "_model_name": "HTMLModel",
            "placeholder": "​",
            "_view_module": "@jupyter-widgets/controls",
            "_model_module_version": "1.5.0",
            "value": " 3/3 [00:00&lt;00:00, 12.20it/s]",
            "_view_count": null,
            "_view_module_version": "1.5.0",
            "description_tooltip": null,
            "_model_module": "@jupyter-widgets/controls",
            "layout": "IPY_MODEL_ff54d860502a4d18ad12d5ffe76e1b69"
          }
        },
        "e04b86a3d81b44e9a64c0d9ab484f129": {
          "model_module": "@jupyter-widgets/controls",
          "model_name": "ProgressStyleModel",
          "state": {
            "_view_name": "StyleView",
            "_model_name": "ProgressStyleModel",
            "description_width": "initial",
            "_view_module": "@jupyter-widgets/base",
            "_model_module_version": "1.5.0",
            "_view_count": null,
            "_view_module_version": "1.2.0",
            "bar_color": null,
            "_model_module": "@jupyter-widgets/controls"
          }
        },
        "73cad11bab9c475d831f19f9741706a4": {
          "model_module": "@jupyter-widgets/base",
          "model_name": "LayoutModel",
          "state": {
            "_view_name": "LayoutView",
            "grid_template_rows": null,
            "right": null,
            "justify_content": null,
            "_view_module": "@jupyter-widgets/base",
            "overflow": null,
            "_model_module_version": "1.2.0",
            "_view_count": null,
            "flex_flow": null,
            "width": null,
            "min_width": null,
            "border": null,
            "align_items": null,
            "bottom": null,
            "_model_module": "@jupyter-widgets/base",
            "top": null,
            "grid_column": null,
            "overflow_y": null,
            "overflow_x": null,
            "grid_auto_flow": null,
            "grid_area": null,
            "grid_template_columns": null,
            "flex": null,
            "_model_name": "LayoutModel",
            "justify_items": null,
            "grid_row": null,
            "max_height": null,
            "align_content": null,
            "visibility": null,
            "align_self": null,
            "height": null,
            "min_height": null,
            "padding": null,
            "grid_auto_rows": null,
            "grid_gap": null,
            "max_width": null,
            "order": null,
            "_view_module_version": "1.2.0",
            "grid_template_areas": null,
            "object_position": null,
            "object_fit": null,
            "grid_auto_columns": null,
            "margin": null,
            "display": null,
            "left": null
          }
        },
        "b9e50630fd6246b0a41f439ca2200516": {
          "model_module": "@jupyter-widgets/controls",
          "model_name": "DescriptionStyleModel",
          "state": {
            "_view_name": "StyleView",
            "_model_name": "DescriptionStyleModel",
            "description_width": "",
            "_view_module": "@jupyter-widgets/base",
            "_model_module_version": "1.5.0",
            "_view_count": null,
            "_view_module_version": "1.2.0",
            "_model_module": "@jupyter-widgets/controls"
          }
        },
        "ff54d860502a4d18ad12d5ffe76e1b69": {
          "model_module": "@jupyter-widgets/base",
          "model_name": "LayoutModel",
          "state": {
            "_view_name": "LayoutView",
            "grid_template_rows": null,
            "right": null,
            "justify_content": null,
            "_view_module": "@jupyter-widgets/base",
            "overflow": null,
            "_model_module_version": "1.2.0",
            "_view_count": null,
            "flex_flow": null,
            "width": null,
            "min_width": null,
            "border": null,
            "align_items": null,
            "bottom": null,
            "_model_module": "@jupyter-widgets/base",
            "top": null,
            "grid_column": null,
            "overflow_y": null,
            "overflow_x": null,
            "grid_auto_flow": null,
            "grid_area": null,
            "grid_template_columns": null,
            "flex": null,
            "_model_name": "LayoutModel",
            "justify_items": null,
            "grid_row": null,
            "max_height": null,
            "align_content": null,
            "visibility": null,
            "align_self": null,
            "height": null,
            "min_height": null,
            "padding": null,
            "grid_auto_rows": null,
            "grid_gap": null,
            "max_width": null,
            "order": null,
            "_view_module_version": "1.2.0",
            "grid_template_areas": null,
            "object_position": null,
            "object_fit": null,
            "grid_auto_columns": null,
            "margin": null,
            "display": null,
            "left": null
          }
        },
        "f63492782e594e1fae07e4a68b4e386e": {
          "model_module": "@jupyter-widgets/controls",
          "model_name": "HBoxModel",
          "state": {
            "_view_name": "HBoxView",
            "_dom_classes": [],
            "_model_name": "HBoxModel",
            "_view_module": "@jupyter-widgets/controls",
            "_model_module_version": "1.5.0",
            "_view_count": null,
            "_view_module_version": "1.5.0",
            "box_style": "",
            "layout": "IPY_MODEL_4addd6cc4c984b3faec0759e3c45a50e",
            "_model_module": "@jupyter-widgets/controls",
            "children": [
              "IPY_MODEL_70f0a3751d9b40e38f79d4b9e7e4b9b9",
              "IPY_MODEL_3aee1a6931cc4c4b8ef69b6e9952f92f"
            ]
          }
        },
        "4addd6cc4c984b3faec0759e3c45a50e": {
          "model_module": "@jupyter-widgets/base",
          "model_name": "LayoutModel",
          "state": {
            "_view_name": "LayoutView",
            "grid_template_rows": null,
            "right": null,
            "justify_content": null,
            "_view_module": "@jupyter-widgets/base",
            "overflow": null,
            "_model_module_version": "1.2.0",
            "_view_count": null,
            "flex_flow": null,
            "width": null,
            "min_width": null,
            "border": null,
            "align_items": null,
            "bottom": null,
            "_model_module": "@jupyter-widgets/base",
            "top": null,
            "grid_column": null,
            "overflow_y": null,
            "overflow_x": null,
            "grid_auto_flow": null,
            "grid_area": null,
            "grid_template_columns": null,
            "flex": null,
            "_model_name": "LayoutModel",
            "justify_items": null,
            "grid_row": null,
            "max_height": null,
            "align_content": null,
            "visibility": null,
            "align_self": null,
            "height": null,
            "min_height": null,
            "padding": null,
            "grid_auto_rows": null,
            "grid_gap": null,
            "max_width": null,
            "order": null,
            "_view_module_version": "1.2.0",
            "grid_template_areas": null,
            "object_position": null,
            "object_fit": null,
            "grid_auto_columns": null,
            "margin": null,
            "display": null,
            "left": null
          }
        },
        "70f0a3751d9b40e38f79d4b9e7e4b9b9": {
          "model_module": "@jupyter-widgets/controls",
          "model_name": "FloatProgressModel",
          "state": {
            "_view_name": "ProgressView",
            "style": "IPY_MODEL_02b5a8d0b71a41c8ad2e10fc14d45777",
            "_dom_classes": [],
            "description": "100%",
            "_model_name": "FloatProgressModel",
            "bar_style": "success",
            "max": 3,
            "_view_module": "@jupyter-widgets/controls",
            "_model_module_version": "1.5.0",
            "value": 3,
            "_view_count": null,
            "_view_module_version": "1.5.0",
            "orientation": "horizontal",
            "min": 0,
            "description_tooltip": null,
            "_model_module": "@jupyter-widgets/controls",
            "layout": "IPY_MODEL_33dc14da22bc40a1a62f90fc881c8f6e"
          }
        },
        "3aee1a6931cc4c4b8ef69b6e9952f92f": {
          "model_module": "@jupyter-widgets/controls",
          "model_name": "HTMLModel",
          "state": {
            "_view_name": "HTMLView",
            "style": "IPY_MODEL_326844b34f4640fda350ff30b099cb87",
            "_dom_classes": [],
            "description": "",
            "_model_name": "HTMLModel",
            "placeholder": "​",
            "_view_module": "@jupyter-widgets/controls",
            "_model_module_version": "1.5.0",
            "value": " 3/3 [00:00&lt;00:00, 34.15it/s]",
            "_view_count": null,
            "_view_module_version": "1.5.0",
            "description_tooltip": null,
            "_model_module": "@jupyter-widgets/controls",
            "layout": "IPY_MODEL_da5002f110fe4b9ebeaecb16ad6adf14"
          }
        },
        "02b5a8d0b71a41c8ad2e10fc14d45777": {
          "model_module": "@jupyter-widgets/controls",
          "model_name": "ProgressStyleModel",
          "state": {
            "_view_name": "StyleView",
            "_model_name": "ProgressStyleModel",
            "description_width": "initial",
            "_view_module": "@jupyter-widgets/base",
            "_model_module_version": "1.5.0",
            "_view_count": null,
            "_view_module_version": "1.2.0",
            "bar_color": null,
            "_model_module": "@jupyter-widgets/controls"
          }
        },
        "33dc14da22bc40a1a62f90fc881c8f6e": {
          "model_module": "@jupyter-widgets/base",
          "model_name": "LayoutModel",
          "state": {
            "_view_name": "LayoutView",
            "grid_template_rows": null,
            "right": null,
            "justify_content": null,
            "_view_module": "@jupyter-widgets/base",
            "overflow": null,
            "_model_module_version": "1.2.0",
            "_view_count": null,
            "flex_flow": null,
            "width": null,
            "min_width": null,
            "border": null,
            "align_items": null,
            "bottom": null,
            "_model_module": "@jupyter-widgets/base",
            "top": null,
            "grid_column": null,
            "overflow_y": null,
            "overflow_x": null,
            "grid_auto_flow": null,
            "grid_area": null,
            "grid_template_columns": null,
            "flex": null,
            "_model_name": "LayoutModel",
            "justify_items": null,
            "grid_row": null,
            "max_height": null,
            "align_content": null,
            "visibility": null,
            "align_self": null,
            "height": null,
            "min_height": null,
            "padding": null,
            "grid_auto_rows": null,
            "grid_gap": null,
            "max_width": null,
            "order": null,
            "_view_module_version": "1.2.0",
            "grid_template_areas": null,
            "object_position": null,
            "object_fit": null,
            "grid_auto_columns": null,
            "margin": null,
            "display": null,
            "left": null
          }
        },
        "326844b34f4640fda350ff30b099cb87": {
          "model_module": "@jupyter-widgets/controls",
          "model_name": "DescriptionStyleModel",
          "state": {
            "_view_name": "StyleView",
            "_model_name": "DescriptionStyleModel",
            "description_width": "",
            "_view_module": "@jupyter-widgets/base",
            "_model_module_version": "1.5.0",
            "_view_count": null,
            "_view_module_version": "1.2.0",
            "_model_module": "@jupyter-widgets/controls"
          }
        },
        "da5002f110fe4b9ebeaecb16ad6adf14": {
          "model_module": "@jupyter-widgets/base",
          "model_name": "LayoutModel",
          "state": {
            "_view_name": "LayoutView",
            "grid_template_rows": null,
            "right": null,
            "justify_content": null,
            "_view_module": "@jupyter-widgets/base",
            "overflow": null,
            "_model_module_version": "1.2.0",
            "_view_count": null,
            "flex_flow": null,
            "width": null,
            "min_width": null,
            "border": null,
            "align_items": null,
            "bottom": null,
            "_model_module": "@jupyter-widgets/base",
            "top": null,
            "grid_column": null,
            "overflow_y": null,
            "overflow_x": null,
            "grid_auto_flow": null,
            "grid_area": null,
            "grid_template_columns": null,
            "flex": null,
            "_model_name": "LayoutModel",
            "justify_items": null,
            "grid_row": null,
            "max_height": null,
            "align_content": null,
            "visibility": null,
            "align_self": null,
            "height": null,
            "min_height": null,
            "padding": null,
            "grid_auto_rows": null,
            "grid_gap": null,
            "max_width": null,
            "order": null,
            "_view_module_version": "1.2.0",
            "grid_template_areas": null,
            "object_position": null,
            "object_fit": null,
            "grid_auto_columns": null,
            "margin": null,
            "display": null,
            "left": null
          }
        },
        "7f56777d2103404a9656b2155b0e6112": {
          "model_module": "@jupyter-widgets/controls",
          "model_name": "HBoxModel",
          "state": {
            "_view_name": "HBoxView",
            "_dom_classes": [],
            "_model_name": "HBoxModel",
            "_view_module": "@jupyter-widgets/controls",
            "_model_module_version": "1.5.0",
            "_view_count": null,
            "_view_module_version": "1.5.0",
            "box_style": "",
            "layout": "IPY_MODEL_40277d90731647b7b68e5e51026858df",
            "_model_module": "@jupyter-widgets/controls",
            "children": [
              "IPY_MODEL_106c3b425307485a9b2ca9c99c4fc19d",
              "IPY_MODEL_8aa648ab813048b98faf028e2055480f"
            ]
          }
        },
        "40277d90731647b7b68e5e51026858df": {
          "model_module": "@jupyter-widgets/base",
          "model_name": "LayoutModel",
          "state": {
            "_view_name": "LayoutView",
            "grid_template_rows": null,
            "right": null,
            "justify_content": null,
            "_view_module": "@jupyter-widgets/base",
            "overflow": null,
            "_model_module_version": "1.2.0",
            "_view_count": null,
            "flex_flow": null,
            "width": null,
            "min_width": null,
            "border": null,
            "align_items": null,
            "bottom": null,
            "_model_module": "@jupyter-widgets/base",
            "top": null,
            "grid_column": null,
            "overflow_y": null,
            "overflow_x": null,
            "grid_auto_flow": null,
            "grid_area": null,
            "grid_template_columns": null,
            "flex": null,
            "_model_name": "LayoutModel",
            "justify_items": null,
            "grid_row": null,
            "max_height": null,
            "align_content": null,
            "visibility": null,
            "align_self": null,
            "height": null,
            "min_height": null,
            "padding": null,
            "grid_auto_rows": null,
            "grid_gap": null,
            "max_width": null,
            "order": null,
            "_view_module_version": "1.2.0",
            "grid_template_areas": null,
            "object_position": null,
            "object_fit": null,
            "grid_auto_columns": null,
            "margin": null,
            "display": null,
            "left": null
          }
        },
        "106c3b425307485a9b2ca9c99c4fc19d": {
          "model_module": "@jupyter-widgets/controls",
          "model_name": "FloatProgressModel",
          "state": {
            "_view_name": "ProgressView",
            "style": "IPY_MODEL_ccf136e1de644d30a8e4340e12da3e20",
            "_dom_classes": [],
            "description": "100%",
            "_model_name": "FloatProgressModel",
            "bar_style": "success",
            "max": 700,
            "_view_module": "@jupyter-widgets/controls",
            "_model_module_version": "1.5.0",
            "value": 700,
            "_view_count": null,
            "_view_module_version": "1.5.0",
            "orientation": "horizontal",
            "min": 0,
            "description_tooltip": null,
            "_model_module": "@jupyter-widgets/controls",
            "layout": "IPY_MODEL_0680c75acd444d6093de70c9625b4cd3"
          }
        },
        "8aa648ab813048b98faf028e2055480f": {
          "model_module": "@jupyter-widgets/controls",
          "model_name": "HTMLModel",
          "state": {
            "_view_name": "HTMLView",
            "style": "IPY_MODEL_4f1fa976358d478cb51fd5082ebea764",
            "_dom_classes": [],
            "description": "",
            "_model_name": "HTMLModel",
            "placeholder": "​",
            "_view_module": "@jupyter-widgets/controls",
            "_model_module_version": "1.5.0",
            "value": " 700/700 [00:16&lt;00:00, 41.90it/s]",
            "_view_count": null,
            "_view_module_version": "1.5.0",
            "description_tooltip": null,
            "_model_module": "@jupyter-widgets/controls",
            "layout": "IPY_MODEL_a036977abdfe4491be8c097bf50cde9a"
          }
        },
        "ccf136e1de644d30a8e4340e12da3e20": {
          "model_module": "@jupyter-widgets/controls",
          "model_name": "ProgressStyleModel",
          "state": {
            "_view_name": "StyleView",
            "_model_name": "ProgressStyleModel",
            "description_width": "initial",
            "_view_module": "@jupyter-widgets/base",
            "_model_module_version": "1.5.0",
            "_view_count": null,
            "_view_module_version": "1.2.0",
            "bar_color": null,
            "_model_module": "@jupyter-widgets/controls"
          }
        },
        "0680c75acd444d6093de70c9625b4cd3": {
          "model_module": "@jupyter-widgets/base",
          "model_name": "LayoutModel",
          "state": {
            "_view_name": "LayoutView",
            "grid_template_rows": null,
            "right": null,
            "justify_content": null,
            "_view_module": "@jupyter-widgets/base",
            "overflow": null,
            "_model_module_version": "1.2.0",
            "_view_count": null,
            "flex_flow": null,
            "width": null,
            "min_width": null,
            "border": null,
            "align_items": null,
            "bottom": null,
            "_model_module": "@jupyter-widgets/base",
            "top": null,
            "grid_column": null,
            "overflow_y": null,
            "overflow_x": null,
            "grid_auto_flow": null,
            "grid_area": null,
            "grid_template_columns": null,
            "flex": null,
            "_model_name": "LayoutModel",
            "justify_items": null,
            "grid_row": null,
            "max_height": null,
            "align_content": null,
            "visibility": null,
            "align_self": null,
            "height": null,
            "min_height": null,
            "padding": null,
            "grid_auto_rows": null,
            "grid_gap": null,
            "max_width": null,
            "order": null,
            "_view_module_version": "1.2.0",
            "grid_template_areas": null,
            "object_position": null,
            "object_fit": null,
            "grid_auto_columns": null,
            "margin": null,
            "display": null,
            "left": null
          }
        },
        "4f1fa976358d478cb51fd5082ebea764": {
          "model_module": "@jupyter-widgets/controls",
          "model_name": "DescriptionStyleModel",
          "state": {
            "_view_name": "StyleView",
            "_model_name": "DescriptionStyleModel",
            "description_width": "",
            "_view_module": "@jupyter-widgets/base",
            "_model_module_version": "1.5.0",
            "_view_count": null,
            "_view_module_version": "1.2.0",
            "_model_module": "@jupyter-widgets/controls"
          }
        },
        "a036977abdfe4491be8c097bf50cde9a": {
          "model_module": "@jupyter-widgets/base",
          "model_name": "LayoutModel",
          "state": {
            "_view_name": "LayoutView",
            "grid_template_rows": null,
            "right": null,
            "justify_content": null,
            "_view_module": "@jupyter-widgets/base",
            "overflow": null,
            "_model_module_version": "1.2.0",
            "_view_count": null,
            "flex_flow": null,
            "width": null,
            "min_width": null,
            "border": null,
            "align_items": null,
            "bottom": null,
            "_model_module": "@jupyter-widgets/base",
            "top": null,
            "grid_column": null,
            "overflow_y": null,
            "overflow_x": null,
            "grid_auto_flow": null,
            "grid_area": null,
            "grid_template_columns": null,
            "flex": null,
            "_model_name": "LayoutModel",
            "justify_items": null,
            "grid_row": null,
            "max_height": null,
            "align_content": null,
            "visibility": null,
            "align_self": null,
            "height": null,
            "min_height": null,
            "padding": null,
            "grid_auto_rows": null,
            "grid_gap": null,
            "max_width": null,
            "order": null,
            "_view_module_version": "1.2.0",
            "grid_template_areas": null,
            "object_position": null,
            "object_fit": null,
            "grid_auto_columns": null,
            "margin": null,
            "display": null,
            "left": null
          }
        },
        "9502cd61f11b4f99aea6978d57f9d362": {
          "model_module": "@jupyter-widgets/controls",
          "model_name": "HBoxModel",
          "state": {
            "_view_name": "HBoxView",
            "_dom_classes": [],
            "_model_name": "HBoxModel",
            "_view_module": "@jupyter-widgets/controls",
            "_model_module_version": "1.5.0",
            "_view_count": null,
            "_view_module_version": "1.5.0",
            "box_style": "",
            "layout": "IPY_MODEL_62a7e6b5fb5c4134b989828a97f36ff8",
            "_model_module": "@jupyter-widgets/controls",
            "children": [
              "IPY_MODEL_4a9f26d434b8460baae118ab7d52479d",
              "IPY_MODEL_895459834e644072bd48723a1936e7ad"
            ]
          }
        },
        "62a7e6b5fb5c4134b989828a97f36ff8": {
          "model_module": "@jupyter-widgets/base",
          "model_name": "LayoutModel",
          "state": {
            "_view_name": "LayoutView",
            "grid_template_rows": null,
            "right": null,
            "justify_content": null,
            "_view_module": "@jupyter-widgets/base",
            "overflow": null,
            "_model_module_version": "1.2.0",
            "_view_count": null,
            "flex_flow": null,
            "width": null,
            "min_width": null,
            "border": null,
            "align_items": null,
            "bottom": null,
            "_model_module": "@jupyter-widgets/base",
            "top": null,
            "grid_column": null,
            "overflow_y": null,
            "overflow_x": null,
            "grid_auto_flow": null,
            "grid_area": null,
            "grid_template_columns": null,
            "flex": null,
            "_model_name": "LayoutModel",
            "justify_items": null,
            "grid_row": null,
            "max_height": null,
            "align_content": null,
            "visibility": null,
            "align_self": null,
            "height": null,
            "min_height": null,
            "padding": null,
            "grid_auto_rows": null,
            "grid_gap": null,
            "max_width": null,
            "order": null,
            "_view_module_version": "1.2.0",
            "grid_template_areas": null,
            "object_position": null,
            "object_fit": null,
            "grid_auto_columns": null,
            "margin": null,
            "display": null,
            "left": null
          }
        },
        "4a9f26d434b8460baae118ab7d52479d": {
          "model_module": "@jupyter-widgets/controls",
          "model_name": "FloatProgressModel",
          "state": {
            "_view_name": "ProgressView",
            "style": "IPY_MODEL_8856100902e64f5aa12a543a01fda868",
            "_dom_classes": [],
            "description": "100%",
            "_model_name": "FloatProgressModel",
            "bar_style": "success",
            "max": 700,
            "_view_module": "@jupyter-widgets/controls",
            "_model_module_version": "1.5.0",
            "value": 700,
            "_view_count": null,
            "_view_module_version": "1.5.0",
            "orientation": "horizontal",
            "min": 0,
            "description_tooltip": null,
            "_model_module": "@jupyter-widgets/controls",
            "layout": "IPY_MODEL_77a8960f370342a9ad3a4dd687e3398d"
          }
        },
        "895459834e644072bd48723a1936e7ad": {
          "model_module": "@jupyter-widgets/controls",
          "model_name": "HTMLModel",
          "state": {
            "_view_name": "HTMLView",
            "style": "IPY_MODEL_10f4e366c8964f05a1e4d10b995632f6",
            "_dom_classes": [],
            "description": "",
            "_model_name": "HTMLModel",
            "placeholder": "​",
            "_view_module": "@jupyter-widgets/controls",
            "_model_module_version": "1.5.0",
            "value": " 700/700 [00:11&lt;00:00, 59.53it/s]",
            "_view_count": null,
            "_view_module_version": "1.5.0",
            "description_tooltip": null,
            "_model_module": "@jupyter-widgets/controls",
            "layout": "IPY_MODEL_df7def545c604624baacb6c6207dbb0f"
          }
        },
        "8856100902e64f5aa12a543a01fda868": {
          "model_module": "@jupyter-widgets/controls",
          "model_name": "ProgressStyleModel",
          "state": {
            "_view_name": "StyleView",
            "_model_name": "ProgressStyleModel",
            "description_width": "initial",
            "_view_module": "@jupyter-widgets/base",
            "_model_module_version": "1.5.0",
            "_view_count": null,
            "_view_module_version": "1.2.0",
            "bar_color": null,
            "_model_module": "@jupyter-widgets/controls"
          }
        },
        "77a8960f370342a9ad3a4dd687e3398d": {
          "model_module": "@jupyter-widgets/base",
          "model_name": "LayoutModel",
          "state": {
            "_view_name": "LayoutView",
            "grid_template_rows": null,
            "right": null,
            "justify_content": null,
            "_view_module": "@jupyter-widgets/base",
            "overflow": null,
            "_model_module_version": "1.2.0",
            "_view_count": null,
            "flex_flow": null,
            "width": null,
            "min_width": null,
            "border": null,
            "align_items": null,
            "bottom": null,
            "_model_module": "@jupyter-widgets/base",
            "top": null,
            "grid_column": null,
            "overflow_y": null,
            "overflow_x": null,
            "grid_auto_flow": null,
            "grid_area": null,
            "grid_template_columns": null,
            "flex": null,
            "_model_name": "LayoutModel",
            "justify_items": null,
            "grid_row": null,
            "max_height": null,
            "align_content": null,
            "visibility": null,
            "align_self": null,
            "height": null,
            "min_height": null,
            "padding": null,
            "grid_auto_rows": null,
            "grid_gap": null,
            "max_width": null,
            "order": null,
            "_view_module_version": "1.2.0",
            "grid_template_areas": null,
            "object_position": null,
            "object_fit": null,
            "grid_auto_columns": null,
            "margin": null,
            "display": null,
            "left": null
          }
        },
        "10f4e366c8964f05a1e4d10b995632f6": {
          "model_module": "@jupyter-widgets/controls",
          "model_name": "DescriptionStyleModel",
          "state": {
            "_view_name": "StyleView",
            "_model_name": "DescriptionStyleModel",
            "description_width": "",
            "_view_module": "@jupyter-widgets/base",
            "_model_module_version": "1.5.0",
            "_view_count": null,
            "_view_module_version": "1.2.0",
            "_model_module": "@jupyter-widgets/controls"
          }
        },
        "df7def545c604624baacb6c6207dbb0f": {
          "model_module": "@jupyter-widgets/base",
          "model_name": "LayoutModel",
          "state": {
            "_view_name": "LayoutView",
            "grid_template_rows": null,
            "right": null,
            "justify_content": null,
            "_view_module": "@jupyter-widgets/base",
            "overflow": null,
            "_model_module_version": "1.2.0",
            "_view_count": null,
            "flex_flow": null,
            "width": null,
            "min_width": null,
            "border": null,
            "align_items": null,
            "bottom": null,
            "_model_module": "@jupyter-widgets/base",
            "top": null,
            "grid_column": null,
            "overflow_y": null,
            "overflow_x": null,
            "grid_auto_flow": null,
            "grid_area": null,
            "grid_template_columns": null,
            "flex": null,
            "_model_name": "LayoutModel",
            "justify_items": null,
            "grid_row": null,
            "max_height": null,
            "align_content": null,
            "visibility": null,
            "align_self": null,
            "height": null,
            "min_height": null,
            "padding": null,
            "grid_auto_rows": null,
            "grid_gap": null,
            "max_width": null,
            "order": null,
            "_view_module_version": "1.2.0",
            "grid_template_areas": null,
            "object_position": null,
            "object_fit": null,
            "grid_auto_columns": null,
            "margin": null,
            "display": null,
            "left": null
          }
        }
      }
    }
  },
  "cells": [
    {
      "cell_type": "markdown",
      "metadata": {
        "id": "view-in-github",
        "colab_type": "text"
      },
      "source": [
        "<a href=\"https://colab.research.google.com/github/pipeton8/pattern-recognition/blob/main/assignments/2%20-%20Gender%20recognition/assignment2_fdc.ipynb\" target=\"_parent\"><img src=\"https://colab.research.google.com/assets/colab-badge.svg\" alt=\"Open In Colab\"/></a>"
      ]
    },
    {
      "cell_type": "markdown",
      "metadata": {
        "id": "HLBYjsokUTdD"
      },
      "source": [
        "# Assignment 2 - Pattern Recognition\n",
        "\n",
        "(c) Felipe del Canto, May 2021\n",
        "\n",
        "---\n",
        "\n",
        "# Gender recognition"
      ]
    },
    {
      "cell_type": "markdown",
      "metadata": {
        "id": "T9dnyTpwO6jg"
      },
      "source": [
        "# 0. Preamble"
      ]
    },
    {
      "cell_type": "markdown",
      "metadata": {
        "id": "wZ7J_5ylO8xX"
      },
      "source": [
        "## Load libraries"
      ]
    },
    {
      "cell_type": "code",
      "metadata": {
        "colab": {
          "base_uri": "https://localhost:8080/"
        },
        "id": "pVqXD2SwSZWP",
        "outputId": "4f30167a-e2b3-4e30-b652-e3ab7dc2c2a3"
      },
      "source": [
        "from IPython.display import clear_output\n",
        "\n",
        "!pip install scipy==1.2\n",
        "!pip3 install pybalu==0.2.5\n",
        "clear_output()\n",
        "print('PyBalu library installed.')"
      ],
      "execution_count": null,
      "outputs": [
        {
          "output_type": "stream",
          "text": [
            "PyBalu library installed.\n"
          ],
          "name": "stdout"
        }
      ]
    },
    {
      "cell_type": "code",
      "metadata": {
        "id": "kFlUWPloPGYD"
      },
      "source": [
        "!pip uninstall opencv-python -y\n",
        "!pip install opencv-python\n",
        "clear_output()\n",
        "\n",
        "import cv2 as cv"
      ],
      "execution_count": null,
      "outputs": []
    },
    {
      "cell_type": "code",
      "metadata": {
        "id": "xOsVwQu_Pzm3"
      },
      "source": [
        "import numpy as np\n",
        "import matplotlib.pyplot as plt\n",
        "\n",
        "from   seaborn import heatmap\n",
        "\n",
        "from   tqdm.auto import tqdm\n",
        "\n",
        "from   sklearn.metrics import confusion_matrix, accuracy_score\n",
        "from   sklearn.neighbors import KNeighborsClassifier\n",
        "from   sklearn.decomposition import PCA\n",
        "\n",
        "from   pybalu.feature_extraction import lbp_features, hog_features\n",
        "from   pybalu.feature_selection import clean"
      ],
      "execution_count": null,
      "outputs": []
    },
    {
      "cell_type": "markdown",
      "metadata": {
        "id": "FHKi2Q1tPNqk"
      },
      "source": [
        "## Load database"
      ]
    },
    {
      "cell_type": "code",
      "metadata": {
        "colab": {
          "base_uri": "https://localhost:8080/"
        },
        "id": "XjEC8ldPSKUZ",
        "outputId": "3ea52c7c-23c9-49d2-8c38-a26497daf8d5"
      },
      "source": [
        "!wget 'https://github.com/pipeton8/pattern-recognition/raw/main/assignments/databases/argender.zip' -O 'argender.zip'\n",
        "!unzip -o 'argender.zip'\n",
        "!rm 'argender.zip'\n",
        "clear_output()\n",
        "print(\"Database Loaded\")"
      ],
      "execution_count": null,
      "outputs": [
        {
          "output_type": "stream",
          "text": [
            "Database Loaded\n"
          ],
          "name": "stdout"
        }
      ]
    },
    {
      "cell_type": "markdown",
      "metadata": {
        "id": "UDBFywZqi24X"
      },
      "source": [
        "## Image manipulation functions"
      ]
    },
    {
      "cell_type": "code",
      "metadata": {
        "id": "F4QAaaXei4Qw"
      },
      "source": [
        "def num2fixstr(x,d):\n",
        "  # example num2fixstr(2,5) returns '00002'\n",
        "  # example num2fixstr(19,3) returns '019'\n",
        "  st = '%0*d' % (d,x)\n",
        "  return st\n",
        "\n",
        "def ImageLoad(prefix, num_char, num_img, echo='off'):\n",
        "  st   = prefix + num2fixstr(num_char,3) + '_' + num2fixstr(num_img,4) + '.png'\n",
        "\n",
        "  if echo == 'on':\n",
        "    print('loading image '+st+'...')\n",
        "\n",
        "  return plt.imread(st)\n",
        "\n",
        "\n",
        "def ImageSplit(img, vdiv=1, hdiv=1):\n",
        "  subImgHeight = img.shape[0] // vdiv\n",
        "  subImgWidth  = img.shape[1] // hdiv\n",
        "  \n",
        "  imgs = [img[subImgHeight*i : subImgHeight*(i+1), \n",
        "              subImgWidth*j:subImgWidth*(j+1)] \n",
        "                for i in range(vdiv) for j in range(hdiv)]\n",
        "\n",
        "  return imgs"
      ],
      "execution_count": null,
      "outputs": []
    },
    {
      "cell_type": "markdown",
      "metadata": {
        "id": "vCXxJyFFGLgM"
      },
      "source": [
        "## Normalization"
      ]
    },
    {
      "cell_type": "code",
      "metadata": {
        "id": "IqSpWdLkGLKq"
      },
      "source": [
        "def minmax(X):\n",
        "  min = X.min(axis=0) # vector of column-wise minima\n",
        "  max = X.max(axis=0) # vector of column-wise maxima\n",
        "\n",
        "  range         = max - min   # vector of column-wise ranges\n",
        "  scale_coef    = 1/range     # scale coefficient\n",
        "  position_coef = -min/range  # position coefficient\n",
        "\n",
        "  # Return normalized features and coefficients to normalize test set\n",
        "  return X*scale_coef + position_coef, scale_coef, position_coef"
      ],
      "execution_count": null,
      "outputs": []
    },
    {
      "cell_type": "markdown",
      "metadata": {
        "id": "eAiZz9odXaVu"
      },
      "source": [
        "## SIFT"
      ]
    },
    {
      "cell_type": "code",
      "metadata": {
        "id": "nh3tkwo4Nc2Z"
      },
      "source": [
        "# SIFT extraction\n",
        "def SIFT_features(img, normalize=True):\n",
        "  SIFT_extractor = cv.features2d.SIFT_create()\n",
        "  _, desc = SIFT_extractor.detectAndCompute(img, None)\n",
        "\n",
        "  if normalize:\n",
        "    norm = np.reshape(np.linalg.norm(desc,axis=1),desc.shape[0])\n",
        "    desc = desc/norm\n",
        "\n",
        "  return desc\n",
        "\n",
        "def SIFT_reduce(Xsift, n_components, finalKeypoints):\n",
        "\n",
        "  pca = PCA(n_components=n_components)\n",
        "  Xsift_pca = pca.fit_transform(Xsift)\n",
        "\n",
        "  for i in range(n_components):\n",
        "    # sort starting from the last column\n",
        "    currentColumn = (n_components-1) - i\n",
        "\n",
        "    newOrder = np.argsort(Xsift_pca[:,currentColumn])\n",
        "    Xsift_pca = Xsift_pca[newOrder,:]\n",
        "\n",
        "  if finalKeyPoints > Xsfit_pca.shape[0]:\n",
        "    paddingShape = (finalKeyPoints - Xsift_pca.shape[0], Xsift_pca.shape[1])\n",
        "\n",
        "    return np.concatenate((Xsift_pca,np.zeros(paddingShape)))\n",
        "\n",
        "  return Xsift_pca[:finalKeyPoints,:]"
      ],
      "execution_count": null,
      "outputs": []
    },
    {
      "cell_type": "markdown",
      "metadata": {
        "id": "3hoNcgLhSx7v"
      },
      "source": [
        "## Training and classifying functions"
      ]
    },
    {
      "cell_type": "code",
      "metadata": {
        "id": "h9p2vPgBSzgW"
      },
      "source": [
        "# Create train and test sets\n",
        "def SplitTrainTest(X,y,n, preprocess= True, random='not', batch_size = -1, seed = 0):\n",
        "\n",
        "  K      = np.int(np.max(y))+1      # number of classes   \n",
        "  N      = np.int(X.shape[0]/K)     # images per class\n",
        "  \n",
        "  if random == 'all':\n",
        "    np.random.seed(seed)\n",
        "    rows_selected = np.sort(np.random.choice([i for i in range(N)], n, replace=False))\n",
        "  \n",
        "  elif random == 'batch':\n",
        "    if batch_size == -1 or N % batch_size != 0 or n % batch_size != 0 or type(batch_size) != int:\n",
        "      raise ValueError(\"batch_size does not comply with matrix size\")\n",
        "    \n",
        "    batch_number = np.int(N/batch_size)\n",
        "    batchesToChoose = np.int(n/batch_size)\n",
        "\n",
        "    np.random.seed(seed)\n",
        "    batches_selected = np.sort(np.random.choice([i for i in range(batch_number)], batchesToChoose, replace=False))\n",
        "    rows_selected = [batch*batch_size + i for batch in batches_selected for i in range(batch_size)]\n",
        "\n",
        "  else:\n",
        "    rows_selected = [i for i in range(n)]\n",
        "\n",
        "  rowsTrain = np.array([i+j*N for j in range(K) for i in rows_selected])\n",
        "  rowsTest = np.array([i for i in range(X.shape[0]) if i not in rowsTrain])\n",
        "\n",
        "  Xtrain = X[rowsTrain,:]\n",
        "  Xtest  = X[rowsTest,:]\n",
        "\n",
        "  if preprocess:\n",
        "    # Select columns that are not constant and for those which are highly correlated, \n",
        "    # leave only one occurrence. This selection is done only in the train set.\n",
        "    clean_selection = clean(Xtrain)\n",
        "\n",
        "    Xtrain_sel  = Xtrain[:,clean_selection]\n",
        "    Xtest_sel   = Xtest[:,clean_selection]\n",
        "\n",
        "    # Normalize train set\n",
        "    Xtrain_norm, a, b = minmax(Xtrain_sel)\n",
        "\n",
        "    # Normalize test set based on training coefficients\n",
        "    Xtest_norm = Xtest_sel * a + b\n",
        "\n",
        "  return Xtrain_norm,y[rowsTrain],Xtest_norm,y[rowsTest],rowsTest"
      ],
      "execution_count": null,
      "outputs": []
    },
    {
      "cell_type": "code",
      "metadata": {
        "id": "MBKdKkfwjOMh"
      },
      "source": [
        "# Confusion matrix print function\n",
        "def printConfusionMatrix(C, mode='heatmap'):\n",
        "  if mode == 'heatmap':\n",
        "\n",
        "    heatmap(C, annot=True, cbar=None, cmap=\"Blues\")\n",
        "    plt.title(\"Confusion Matrix\")\n",
        "    plt.tight_layout()\n",
        "    \n",
        "    plt.ylabel(\"True Class\")\n",
        "    plt.xlabel(\"Predicted Class\")\n",
        "\n",
        "    labels = ['Man', 'Woman']\n",
        "    plt.xticks([0.5,1.5], labels)\n",
        "    plt.yticks([0.5,1.5], labels, va = 'center')\n",
        "\n",
        "    plt.show()\n",
        "\n",
        "  else:  \n",
        "    print('\\nConfusion matrix:')\n",
        "    print(C)\n",
        "\n",
        "  return None\n",
        "\n",
        "# KNN classifier\n",
        "def ClassifierKNN(Xtrain,ytrain,Xtest,ytest, n_neighbors = 3, echo = 'off'):\n",
        "  knn = KNeighborsClassifier(n_neighbors=n_neighbors)\n",
        "  knn.fit(Xtrain, ytrain)\n",
        "\n",
        "  ypred        = knn.predict(Xtest)\n",
        "  acc          = accuracy_score(ytest,ypred)\n",
        "  C            = confusion_matrix(ytest,ypred)\n",
        "  \n",
        "  if echo == 'on':\n",
        "    print('Testing Accuracy = {:.2f}%'.format(acc*100))\n",
        "    printConfusionMatrix(C)\n",
        "  \n",
        "  return acc,C,ypred"
      ],
      "execution_count": null,
      "outputs": []
    },
    {
      "cell_type": "markdown",
      "metadata": {
        "id": "Rdjz47KzxCXd"
      },
      "source": [
        "# 1. Image analysis"
      ]
    },
    {
      "cell_type": "markdown",
      "metadata": {
        "id": "I3jEPzEUb44x"
      },
      "source": [
        "## 1. Splitting images\n",
        "\n",
        "Splitting images can be important when extracting certain features. In this case, splitting each face in (for example) three parts allows the creation of three major features:\n",
        "  - Forehead and eyebrows.\n",
        "  - Eyes and nose.\n",
        "  - Mouth and chin.\n",
        "\n",
        "In principle, this partition could allow for a better prediction."
      ]
    },
    {
      "cell_type": "code",
      "metadata": {
        "colab": {
          "base_uri": "https://localhost:8080/",
          "height": 424,
          "referenced_widgets": [
            "e92f2dc0edf34e73a71a7a54497ecadc",
            "12465e1770164cee9aa1115bde989d79",
            "6d33e8fcabbd4cc4a1cba56297df88f0",
            "a758fa4750cb4385b36e07eda319a3e8",
            "95476621ee7c4239bdaf362e966d75b3",
            "76b0fe615ce0455baf33f6b2353dad08",
            "e295e303969746be8d0df4e3659c0ca2",
            "63f30c6d3ff24290a1507658f7d6642c",
            "06f4080236c44764af5f8fcabbc60b22",
            "71684c4eff564074a90936427dc292e3",
            "f16725718ebb423db792abc0381bf6ee",
            "d48c118c1ba245508742af030e6ebf1c",
            "e04b86a3d81b44e9a64c0d9ab484f129",
            "73cad11bab9c475d831f19f9741706a4",
            "b9e50630fd6246b0a41f439ca2200516",
            "ff54d860502a4d18ad12d5ffe76e1b69",
            "f63492782e594e1fae07e4a68b4e386e",
            "4addd6cc4c984b3faec0759e3c45a50e",
            "70f0a3751d9b40e38f79d4b9e7e4b9b9",
            "3aee1a6931cc4c4b8ef69b6e9952f92f",
            "02b5a8d0b71a41c8ad2e10fc14d45777",
            "33dc14da22bc40a1a62f90fc881c8f6e",
            "326844b34f4640fda350ff30b099cb87",
            "da5002f110fe4b9ebeaecb16ad6adf14"
          ]
        },
        "id": "1TaTrsGKxH_J",
        "outputId": "1f4e19da-b57d-4b36-84a7-b02ca0f98fd8"
      },
      "source": [
        "# Parameters\n",
        "vdiv = 3  # Number of vertical divisions\n",
        "hdiv = 1  # Number of horizontal divisions\n",
        "imageToLoad = 20 # image number to load \n",
        "\n",
        "# Create plots and title\n",
        "fig, axs = plt.subplots(vdiv, 2*hdiv+1, sharex = 'all', sharey = 'all')\n",
        "fig.patch.set_facecolor('blueviolet')\n",
        "fig.suptitle(\"Images of a man and a woman divided in {:d} parts\".format(vdiv*hdiv),y=1.01,color='white')\n",
        "\n",
        "# Place images in plot\n",
        "for k in range(2):\n",
        "  # Load image\n",
        "  img = ImageLoad(\"argender/face_\",k+1,imageToLoad,echo='off')\n",
        "\n",
        "  # Set woman/man title\n",
        "  image_title = \"Man\"*(k == 0) + \"Woman\"*(k==1)\n",
        "  axs[0,k*(hdiv+1)+(hdiv-1)//2].set_title(\"{:s}\".format(image_title),color='white')\n",
        "\n",
        "  # Split image\n",
        "  imgs = ImageSplit(img,vdiv=vdiv, hdiv=hdiv)\n",
        "  \n",
        "  # Place image in corresponding place\n",
        "  for i in tqdm(range(vdiv)):\n",
        "    for j in range(hdiv):\n",
        "      axs[i,k*(hdiv+1) + j].imshow(imgs[i*hdiv+j],cmap='gray')\n",
        "      axs[i,k*(hdiv+1) + j].set_axis_off()\n",
        "\n",
        "# Turn off separating axes\n",
        "for i in tqdm(range(vdiv)):\n",
        "  axs[i,hdiv].set_visible(False)\n",
        "  axs[i,hdiv].set_axis_off()\n",
        "\n",
        "plt.subplots_adjust(hspace=0.1, wspace=0.1)"
      ],
      "execution_count": null,
      "outputs": [
        {
          "output_type": "display_data",
          "data": {
            "application/vnd.jupyter.widget-view+json": {
              "model_id": "e92f2dc0edf34e73a71a7a54497ecadc",
              "version_minor": 0,
              "version_major": 2
            },
            "text/plain": [
              "HBox(children=(FloatProgress(value=0.0, max=3.0), HTML(value='')))"
            ]
          },
          "metadata": {
            "tags": []
          }
        },
        {
          "output_type": "stream",
          "text": [
            "\n"
          ],
          "name": "stdout"
        },
        {
          "output_type": "display_data",
          "data": {
            "application/vnd.jupyter.widget-view+json": {
              "model_id": "06f4080236c44764af5f8fcabbc60b22",
              "version_minor": 0,
              "version_major": 2
            },
            "text/plain": [
              "HBox(children=(FloatProgress(value=0.0, max=3.0), HTML(value='')))"
            ]
          },
          "metadata": {
            "tags": []
          }
        },
        {
          "output_type": "stream",
          "text": [
            "\n"
          ],
          "name": "stdout"
        },
        {
          "output_type": "display_data",
          "data": {
            "application/vnd.jupyter.widget-view+json": {
              "model_id": "f63492782e594e1fae07e4a68b4e386e",
              "version_minor": 0,
              "version_major": 2
            },
            "text/plain": [
              "HBox(children=(FloatProgress(value=0.0, max=3.0), HTML(value='')))"
            ]
          },
          "metadata": {
            "tags": []
          }
        },
        {
          "output_type": "stream",
          "text": [
            "\n"
          ],
          "name": "stdout"
        },
        {
          "output_type": "display_data",
          "data": {
            "image/png": "[encoded data removed]",
            "text/plain": [
              "<Figure size 432x288 with 9 Axes>"
            ]
          },
          "metadata": {
            "tags": []
          }
        }
      ]
    },
    {
      "cell_type": "markdown",
      "metadata": {
        "id": "Ol4Y6ohRPpRw"
      },
      "source": [
        "# 2. Feature extraction"
      ]
    },
    {
      "cell_type": "code",
      "metadata": {
        "colab": {
          "base_uri": "https://localhost:8080/",
          "height": 167,
          "referenced_widgets": [
            "7f56777d2103404a9656b2155b0e6112",
            "40277d90731647b7b68e5e51026858df",
            "106c3b425307485a9b2ca9c99c4fc19d",
            "8aa648ab813048b98faf028e2055480f",
            "ccf136e1de644d30a8e4340e12da3e20",
            "0680c75acd444d6093de70c9625b4cd3",
            "4f1fa976358d478cb51fd5082ebea764",
            "a036977abdfe4491be8c097bf50cde9a",
            "9502cd61f11b4f99aea6978d57f9d362",
            "62a7e6b5fb5c4134b989828a97f36ff8",
            "4a9f26d434b8460baae118ab7d52479d",
            "895459834e644072bd48723a1936e7ad",
            "8856100902e64f5aa12a543a01fda868",
            "77a8960f370342a9ad3a4dd687e3398d",
            "10f4e366c8964f05a1e4d10b995632f6",
            "df7def545c604624baacb6c6207dbb0f"
          ]
        },
        "id": "9JlUPT8nSnVn",
        "outputId": "876aad74-1dd2-4ad3-a943-ef3bf732cb5b"
      },
      "source": [
        "## General parameters\n",
        "K    = 2    # number of classes\n",
        "N    = 700  # number of images per class\n",
        "\n",
        "## LBP parameters\n",
        "hdiv = 3    # number of vertical cuts on the image\n",
        "Mlbp = 59   # size of the LBP vector\n",
        "\n",
        "## HoG parameters\n",
        "v_windows = 16 # number of vertical windows\n",
        "h_windows = 10 # number of horizontal windows\n",
        "n_bins    = 9 # number of bins\n",
        "\n",
        "## SIFT parameters\n",
        "n_components  = 1\n",
        "finalKeypoints = 100\n",
        "\n",
        "## Feature matrices\n",
        "Xlbp_noDiv = np.zeros((K*N,Mlbp))                         # K*N images (rows), and Mlbp      features (columns)\n",
        "Xlbp       = np.zeros((K*N,Mlbp*hdiv))                    # K*N images (rows), and Mlbp*hdiv features (columns)\n",
        "Xhog       = np.zeros((K*N,v_windows*h_windows*n_bins))   #\n",
        "Xsift      = np.zeros((K*N,n_components*finalKeypoints))  #\n",
        "\n",
        "## Ground truth\n",
        "y     = np.concatenate((np.zeros(N,'int'),np.ones(N,'int')))\n",
        "\n",
        "print('Loading images and extracting features...')\n",
        "for j in range(K):\n",
        "\n",
        "  print('Extracting features: class '+str(j+1)+'/'+str(K))\n",
        "  \n",
        "  for i in tqdm(range(N)):\n",
        "    # Image read\n",
        "    img    = 255*ImageLoad('argender/face_',j+1,i+1,echo='off')\n",
        "\n",
        "    # Classic LBP\n",
        "    Xlbp_noDiv[j*N+i,:] = lbp_features(img, hdiv=1,    vdiv=1, mapping='nri_uniform')\n",
        "    Xlbp[j*N+i,:]       = lbp_features(img, hdiv=hdiv, vdiv=1, mapping='nri_uniform')\n",
        "\n",
        "    # Histogram of gradients (HoG)\n",
        "    Xhog[j*N+i,:] = hog_features(img, v_windows = v_windows, h_windows=h_windows,n_bins=n_bins)\n",
        "\n",
        "    # SIFT\n",
        "    #SIFT_f                        = SIFT_reduce(SIFT_features(img), n_components=n_components, finalKeypoints=finalKeypoints)\n",
        "    #Xsift[j*N+i,:]                = SIFT_f.flatten()"
      ],
      "execution_count": null,
      "outputs": [
        {
          "output_type": "stream",
          "text": [
            "Loading images and extracting features...\n",
            "Extracting features: class 1/2\n"
          ],
          "name": "stdout"
        },
        {
          "output_type": "display_data",
          "data": {
            "application/vnd.jupyter.widget-view+json": {
              "model_id": "7f56777d2103404a9656b2155b0e6112",
              "version_minor": 0,
              "version_major": 2
            },
            "text/plain": [
              "HBox(children=(FloatProgress(value=0.0, max=700.0), HTML(value='')))"
            ]
          },
          "metadata": {
            "tags": []
          }
        },
        {
          "output_type": "stream",
          "text": [
            "\n",
            "Extracting features: class 2/2\n"
          ],
          "name": "stdout"
        },
        {
          "output_type": "display_data",
          "data": {
            "application/vnd.jupyter.widget-view+json": {
              "model_id": "9502cd61f11b4f99aea6978d57f9d362",
              "version_minor": 0,
              "version_major": 2
            },
            "text/plain": [
              "HBox(children=(FloatProgress(value=0.0, max=700.0), HTML(value='')))"
            ]
          },
          "metadata": {
            "tags": []
          }
        },
        {
          "output_type": "stream",
          "text": [
            "\n"
          ],
          "name": "stdout"
        }
      ]
    },
    {
      "cell_type": "markdown",
      "metadata": {
        "id": "6fJ5v15sdbEV"
      },
      "source": [
        "## Features to consider"
      ]
    },
    {
      "cell_type": "code",
      "metadata": {
        "id": "O-9oBZFTddwe"
      },
      "source": [
        "X = np.concatenate((Xlbp_noDiv, Xlbp, Xhog), axis=1)"
      ],
      "execution_count": null,
      "outputs": []
    },
    {
      "cell_type": "markdown",
      "metadata": {
        "id": "KW9rXCxK7f_O"
      },
      "source": [
        "# 4. Experiments\n",
        "\n",
        "In each subsection, the experiments are sorted in increasing order of accuracy. For every experiment, with the exception of SFS, the classification is repeated 100 times and the accuracy and confusion matrix reported are averages across all replications. \n",
        "\n",
        "The experiments are comparable by setting the appropiate seeds for each replication.\n",
        "\n",
        "For SFS, only 1 experiment was conducted.\n",
        "\n",
        "All code snippets work independently after setting the parameters below."
      ]
    },
    {
      "cell_type": "markdown",
      "metadata": {
        "id": "8rh1rPu9LfGL"
      },
      "source": [
        "## 1. Feature selection\n",
        "\n",
        "| Strategy   | SFS/SBS<br>Columns |  Accuracy  | Wrongly<br> labeled men | Wrongly<br> labeled women |\n",
        "|------------|:--------------------------:|:-------------------:|:----------------------------------:| :-----------------: |\n",
        "| SFS (all features)    | 12             | 77.86% | 2 | 29  |\n",
        "| SFS (per feature set) | 12 (4 per set) | 83.57% |3 | 20 |\n",
        "| SBS (all features)    | 12             | 77.86% | 2 | 29  |\n",
        "| SBS (per feature set) | 12 (4 per set) | 83.57% |3 | 20 |"
      ]
    },
    {
      "cell_type": "markdown",
      "metadata": {
        "id": "e_PS0HpouqQa"
      },
      "source": [
        "### SFS over all features (library ```mlxtend```)"
      ]
    },
    {
      "cell_type": "code",
      "metadata": {
        "colab": {
          "base_uri": "https://localhost:8080/",
          "height": 987
        },
        "id": "2rHshxE3uxmm",
        "outputId": "b3b9131a-8cd5-4c3d-9105-141212498a94"
      },
      "source": [
        "from mlxtend.feature_selection import SequentialFeatureSelector as SFS\n",
        "\n",
        "# Parameters\n",
        "nTrain         = 630 # size of training set\n",
        "\n",
        "sfs_columns    = 5   # number of features to select in sfs or sbs\n",
        "\n",
        "replications   = 100 # number of replications (for CV purposes)\n",
        "batch_size     = 14  # number of pictures per person\n",
        "\n",
        "# Number of components and model creation\n",
        "sfs = SFS(KNeighborsClassifier(n_neighbors=5), \n",
        "          k_features=sfs_columns,\n",
        "          forward=True,\n",
        "          floating=False,\n",
        "          verbose=1,scoring='accuracy',cv=0, n_jobs=-1)\n",
        "\n",
        "# Run experiment\n",
        "Xtrain, ytrain, Xtest, ytest,_ = SplitTrainTest(X,y,nTrain,random='batch', batch_size = batch_size, seed=0)\n",
        "\n",
        "# Fit SFS model\n",
        "print(\"Running SFS over {:d} features\".format(Xtrain.shape[1]))\n",
        "sfs = sfs.fit(Xtrain, ytrain)\n",
        "print(\"\\n\")\n",
        "\n",
        "# Select columns\n",
        "sel_cols   = list(sfs.k_feature_idx_)\n",
        "Xtrain_sfs = Xtrain[:,sel_cols]\n",
        "Xtest_sfs  = Xtest[:,sel_cols]\n",
        "\n",
        "# Classification\n",
        "acc,C,ypred = ClassifierKNN(Xtrain_sfs, ytrain, Xtest_sfs, ytest, n_neighbors=3, echo='on')"
      ],
      "execution_count": null,
      "outputs": [
        {
          "output_type": "stream",
          "text": [
            "/usr/local/lib/python3.7/dist-packages/sklearn/externals/joblib/__init__.py:15: FutureWarning: sklearn.externals.joblib is deprecated in 0.21 and will be removed in 0.23. Please import this functionality directly from joblib, which can be installed with: pip install joblib. If this warning is raised when loading pickled models, you may need to re-serialize those models with scikit-learn 0.21+.\n",
            "  warnings.warn(msg, category=FutureWarning)\n"
          ],
          "name": "stderr"
        },
        {
          "output_type": "stream",
          "text": [
            "Running SFS over 1676 features\n"
          ],
          "name": "stdout"
        },
        {
          "output_type": "stream",
          "text": [
            "[Parallel(n_jobs=-1)]: Using backend LokyBackend with 2 concurrent workers.\n",
            "[Parallel(n_jobs=-1)]: Done  70 tasks      | elapsed:    3.7s\n",
            "[Parallel(n_jobs=-1)]: Done 370 tasks      | elapsed:   14.7s\n",
            "[Parallel(n_jobs=-1)]: Done 870 tasks      | elapsed:   33.2s\n",
            "[Parallel(n_jobs=-1)]: Done 1570 tasks      | elapsed:   59.2s\n",
            "[Parallel(n_jobs=-1)]: Done 1676 out of 1676 | elapsed:  1.1min finished\n",
            "Features: 1/5[Parallel(n_jobs=-1)]: Using backend LokyBackend with 2 concurrent workers.\n",
            "[Parallel(n_jobs=-1)]: Done  88 tasks      | elapsed:    3.4s\n",
            "[Parallel(n_jobs=-1)]: Done 388 tasks      | elapsed:   14.5s\n",
            "[Parallel(n_jobs=-1)]: Done 888 tasks      | elapsed:   33.1s\n",
            "[Parallel(n_jobs=-1)]: Done 1588 tasks      | elapsed:   59.1s\n",
            "[Parallel(n_jobs=-1)]: Done 1675 out of 1675 | elapsed:  1.0min finished\n",
            "Features: 2/5[Parallel(n_jobs=-1)]: Using backend LokyBackend with 2 concurrent workers.\n",
            "[Parallel(n_jobs=-1)]: Done  88 tasks      | elapsed:    3.4s\n",
            "[Parallel(n_jobs=-1)]: Done 388 tasks      | elapsed:   14.8s\n",
            "[Parallel(n_jobs=-1)]: Done 888 tasks      | elapsed:   33.9s\n",
            "[Parallel(n_jobs=-1)]: Done 1588 tasks      | elapsed:  1.0min\n",
            "[Parallel(n_jobs=-1)]: Done 1671 out of 1674 | elapsed:  1.1min remaining:    0.1s\n",
            "[Parallel(n_jobs=-1)]: Done 1674 out of 1674 | elapsed:  1.1min finished\n",
            "Features: 3/5[Parallel(n_jobs=-1)]: Using backend LokyBackend with 2 concurrent workers.\n",
            "[Parallel(n_jobs=-1)]: Done  88 tasks      | elapsed:    3.6s\n",
            "[Parallel(n_jobs=-1)]: Done 388 tasks      | elapsed:   15.4s\n",
            "[Parallel(n_jobs=-1)]: Done 888 tasks      | elapsed:   35.0s\n",
            "[Parallel(n_jobs=-1)]: Done 1588 tasks      | elapsed:  1.0min\n",
            "[Parallel(n_jobs=-1)]: Done 1670 out of 1673 | elapsed:  1.1min remaining:    0.1s\n",
            "[Parallel(n_jobs=-1)]: Done 1673 out of 1673 | elapsed:  1.1min finished\n",
            "Features: 4/5[Parallel(n_jobs=-1)]: Using backend LokyBackend with 2 concurrent workers.\n",
            "[Parallel(n_jobs=-1)]: Done  88 tasks      | elapsed:    3.6s\n",
            "[Parallel(n_jobs=-1)]: Done 388 tasks      | elapsed:   15.8s\n",
            "[Parallel(n_jobs=-1)]: Done 888 tasks      | elapsed:   36.3s\n",
            "[Parallel(n_jobs=-1)]: Done 1588 tasks      | elapsed:  1.1min\n",
            "[Parallel(n_jobs=-1)]: Done 1672 out of 1672 | elapsed:  1.1min finished\n",
            "Features: 5/5"
          ],
          "name": "stderr"
        },
        {
          "output_type": "stream",
          "text": [
            "\n",
            "\n",
            "Testing Accuracy = 77.86%\n"
          ],
          "name": "stdout"
        },
        {
          "output_type": "display_data",
          "data": {
            "image/png": "[encoded data removed]",
            "text/plain": [
              "<Figure size 432x288 with 1 Axes>"
            ]
          },
          "metadata": {
            "tags": [],
            "needs_background": "light"
          }
        }
      ]
    },
    {
      "cell_type": "markdown",
      "metadata": {
        "id": "ElswTu5nmC7B"
      },
      "source": [
        "### SFS per set of features (library ```mlxtend```)"
      ]
    },
    {
      "cell_type": "code",
      "metadata": {
        "colab": {
          "base_uri": "https://localhost:8080/",
          "height": 380
        },
        "id": "YMXb2edomCeY",
        "outputId": "9a5597f1-0a7d-4d68-96aa-f0237a8ff86b"
      },
      "source": [
        "from mlxtend.feature_selection import SequentialFeatureSelector as SFS\n",
        "\n",
        "# Parameters\n",
        "nTrain         = 630 # size of training set\n",
        "\n",
        "sfs_columns    = 4   # number of columns to select per feature\n",
        "\n",
        "replications   = 100 # number of replications (for CV purposes)\n",
        "batch_size     = 14  # number of pictures per person\n",
        "\n",
        "# Number of components and model creation\n",
        "sfs = SFS(KNeighborsClassifier(n_neighbors=5), \n",
        "          k_features=sfs_columns,\n",
        "          forward=True,\n",
        "          floating=False,\n",
        "          verbose=0,scoring='accuracy',cv=0, n_jobs=-1)\n",
        "\n",
        "# Initialize matrix of features\n",
        "Xtrain_sfs = np.zeros((nTrain*K,1))\n",
        "Xtest_sfs  = np.zeros((X.shape[0]-Xtrain_sfs.shape[0],1))\n",
        "\n",
        "for Xf in [Xlbp_noDiv, Xlbp, Xhog]:\n",
        "  Xtrain, ytrain, Xtest, ytest,_ = SplitTrainTest(Xf,y,nTrain,random='batch', batch_size = batch_size, seed=0)\n",
        "\n",
        "  # Fit SFS model\n",
        "  print(\"Running SFS over {:d} features\".format(Xtrain.shape[1]),end=\"\")\n",
        "  sfs = sfs.fit(Xtrain, ytrain)\n",
        "  print(\"... Done\")\n",
        "\n",
        "  # Select columns\n",
        "  sel_cols   = list(sfs.k_feature_idx_)\n",
        "  Xtrain_sfs = np.concatenate((Xtrain_sfs,Xtrain[:,sel_cols]),axis=1)\n",
        "  Xtest_sfs  = np.concatenate((Xtest_sfs,Xtest[:,sel_cols]),axis=1)\n",
        "\n",
        "# Classification\n",
        "acc,C,ypred = ClassifierKNN(Xtrain_sfs[:,1:], ytrain, Xtest_sfs[:,1:], ytest, n_neighbors=3, echo='on')"
      ],
      "execution_count": null,
      "outputs": [
        {
          "output_type": "stream",
          "text": [
            "Running SFS over 59 features... Done\n",
            "Running SFS over 177 features... Done\n",
            "Running SFS over 1440 features... Done\n",
            "Testing Accuracy = 83.57%\n"
          ],
          "name": "stdout"
        },
        {
          "output_type": "display_data",
          "data": {
            "image/png": "[encoded data removed]",
            "text/plain": [
              "<Figure size 432x288 with 1 Axes>"
            ]
          },
          "metadata": {
            "tags": [],
            "needs_background": "light"
          }
        }
      ]
    },
    {
      "cell_type": "markdown",
      "metadata": {
        "id": "1drCoYXLGmUy"
      },
      "source": [
        "### SBS over all features (library ```mlxtend```)"
      ]
    },
    {
      "cell_type": "code",
      "metadata": {
        "colab": {
          "base_uri": "https://localhost:8080/"
        },
        "id": "fwMdmU3yGmVD",
        "outputId": "62019c6e-79a7-4142-8a06-71b9b0d9180e"
      },
      "source": [
        "from mlxtend.feature_selection import SequentialFeatureSelector as SFS\n",
        "\n",
        "# Parameters\n",
        "nTrain         = 630 # size of training set\n",
        "\n",
        "sfs_columns    = 5   # number of features to select in sfs or sbs\n",
        "\n",
        "replications   = 100 # number of replications (for CV purposes)\n",
        "batch_size     = 14  # number of pictures per person\n",
        "\n",
        "# Number of components and model creation\n",
        "sfs = SFS(KNeighborsClassifier(n_neighbors=5), \n",
        "          k_features=sfs_columns,\n",
        "          forward=False,\n",
        "          floating=False,\n",
        "          verbose=1,scoring='accuracy',cv=0, n_jobs=-1)\n",
        "\n",
        "# Run experiment\n",
        "Xtrain, ytrain, Xtest, ytest,_ = SplitTrainTest(X,y,nTrain,random='batch', batch_size = batch_size, seed=0)\n",
        "\n",
        "# Fit SFS model\n",
        "print(\"Running SBS over {:d} features\".format(Xtrain.shape[1]))\n",
        "sfs = sfs.fit(Xtrain, ytrain)\n",
        "print(\"\\n\")\n",
        "\n",
        "# Select columns\n",
        "sel_cols   = list(sfs.k_feature_idx_)\n",
        "Xtrain_sfs = Xtrain[:,sel_cols]\n",
        "Xtest_sfs  = Xtest[:,sel_cols]\n",
        "\n",
        "# Classification\n",
        "acc,C,ypred = ClassifierKNN(Xtrain_sfs, ytrain, Xtest_sfs, ytest, n_neighbors=3, echo='on')"
      ],
      "execution_count": null,
      "outputs": [
        {
          "output_type": "stream",
          "text": [
            "Running SBS over 1676 features\n"
          ],
          "name": "stdout"
        },
        {
          "output_type": "stream",
          "text": [
            "[Parallel(n_jobs=-1)]: Using backend LokyBackend with 2 concurrent workers.\n",
            "[Parallel(n_jobs=-1)]: Done  46 tasks      | elapsed:  3.2min\n",
            "[Parallel(n_jobs=-1)]: Done 196 tasks      | elapsed: 13.5min\n",
            "[Parallel(n_jobs=-1)]: Done 446 tasks      | elapsed: 30.6min\n",
            "[Parallel(n_jobs=-1)]: Done 796 tasks      | elapsed: 54.6min\n",
            "[Parallel(n_jobs=-1)]: Done 1246 tasks      | elapsed: 85.4min\n",
            "[Parallel(n_jobs=-1)]: Done 1676 out of 1676 | elapsed: 114.9min finished\n",
            "Features: 1675/5[Parallel(n_jobs=-1)]: Using backend LokyBackend with 2 concurrent workers.\n",
            "[Parallel(n_jobs=-1)]: Done  46 tasks      | elapsed:  3.1min\n",
            "[Parallel(n_jobs=-1)]: Done 196 tasks      | elapsed: 13.4min\n",
            "[Parallel(n_jobs=-1)]: Done 446 tasks      | elapsed: 30.7min\n",
            "[Parallel(n_jobs=-1)]: Done 796 tasks      | elapsed: 54.9min\n",
            "[Parallel(n_jobs=-1)]: Done 1246 tasks      | elapsed: 85.8min\n",
            "[Parallel(n_jobs=-1)]: Done 1675 out of 1675 | elapsed: 115.1min finished\n",
            "Features: 1674/5[Parallel(n_jobs=-1)]: Using backend LokyBackend with 2 concurrent workers.\n",
            "[Parallel(n_jobs=-1)]: Done  46 tasks      | elapsed:  3.1min\n",
            "[Parallel(n_jobs=-1)]: Done 196 tasks      | elapsed: 13.4min\n",
            "[Parallel(n_jobs=-1)]: Done 446 tasks      | elapsed: 30.6min\n",
            "[Parallel(n_jobs=-1)]: Done 796 tasks      | elapsed: 54.6min\n",
            "[Parallel(n_jobs=-1)]: Done 1246 tasks      | elapsed: 85.3min\n",
            "[Parallel(n_jobs=-1)]: Done 1674 out of 1674 | elapsed: 114.5min finished\n",
            "Features: 1673/5[Parallel(n_jobs=-1)]: Using backend LokyBackend with 2 concurrent workers.\n",
            "[Parallel(n_jobs=-1)]: Done  46 tasks      | elapsed:  3.1min\n",
            "[Parallel(n_jobs=-1)]: Done 196 tasks      | elapsed: 13.3min\n",
            "[Parallel(n_jobs=-1)]: Done 446 tasks      | elapsed: 30.3min\n",
            "[Parallel(n_jobs=-1)]: Done 796 tasks      | elapsed: 54.1min\n"
          ],
          "name": "stderr"
        }
      ]
    },
    {
      "cell_type": "markdown",
      "metadata": {
        "id": "MKILy07aG1VB"
      },
      "source": [
        "### SBS per set of features (library ```mlxtend```)"
      ]
    },
    {
      "cell_type": "code",
      "metadata": {
        "id": "eSx5lK_YG1VB"
      },
      "source": [
        "from mlxtend.feature_selection import SequentialFeatureSelector as SFS\n",
        "\n",
        "# Parameters\n",
        "nTrain         = 630 # size of training set\n",
        "\n",
        "sfs_columns    = 4   # number of columns to select per feature\n",
        "\n",
        "replications   = 100 # number of replications (for CV purposes)\n",
        "batch_size     = 14  # number of pictures per person\n",
        "\n",
        "# Number of components and model creation\n",
        "sfs = SFS(KNeighborsClassifier(n_neighbors=5), \n",
        "          k_features=sfs_columns,\n",
        "          forward=False,\n",
        "          floating=False,\n",
        "          verbose=0,scoring='accuracy',cv=0, n_jobs=-1)\n",
        "\n",
        "# Initialize matrix of features\n",
        "Xtrain_sfs = np.zeros((nTrain*K,1))\n",
        "Xtest_sfs  = np.zeros((X.shape[0]-Xtrain_sfs.shape[0],1))\n",
        "\n",
        "for Xf in [Xlbp_noDiv, Xlbp, Xhog]:\n",
        "  Xtrain, ytrain, Xtest, ytest,_ = SplitTrainTest(Xf,y,nTrain,random='batch', batch_size = batch_size, seed=0)\n",
        "\n",
        "  # Fit SFS model\n",
        "  print(\"Running SBS over {:d} features\".format(Xtrain.shape[1]),end=\"\")\n",
        "  sfs = sfs.fit(Xtrain, ytrain)\n",
        "  print(\"... Done\")\n",
        "\n",
        "  # Select columns\n",
        "  sel_cols   = list(sfs.k_feature_idx_)\n",
        "  Xtrain_sfs = np.concatenate((Xtrain_sfs,Xtrain[:,sel_cols]),axis=1)\n",
        "  Xtest_sfs  = np.concatenate((Xtest_sfs,Xtest[:,sel_cols]),axis=1)\n",
        "\n",
        "# Classification\n",
        "acc,C,ypred = ClassifierKNN(Xtrain_sfs[:,1:], ytrain, Xtest_sfs[:,1:], ytest, n_neighbors=3, echo='on')"
      ],
      "execution_count": null,
      "outputs": []
    },
    {
      "cell_type": "markdown",
      "metadata": {
        "id": "yXlYlhv4Li_f"
      },
      "source": [
        "## 2. Feature transformation\n",
        "\n",
        "| Strategy   | PCA/ICA/PSLR<br>Components |  Average<br>Accuracy  | Wrongly labeled<br>men (average) | Wrongly labeled<br> women (average) |\n",
        "|------------|:--------------------------:|:-------------------:|:----------------------------------:| :-----------------: |\n",
        "| ICA  |  12  | 84.34% | 8.3 | 14  |\n",
        "| PCA  |  12  | 86.50% | 6.8 | 12  |\n",
        "| PLSR |  12  | 94.55% | 3.7 | 3.9 |"
      ]
    },
    {
      "cell_type": "markdown",
      "metadata": {
        "id": "PaDj4-VvnElI"
      },
      "source": [
        "### ICA (library ```sklearn```)"
      ]
    },
    {
      "cell_type": "code",
      "metadata": {
        "id": "x--a8-SHnNSR"
      },
      "source": [
        "from sklearn.decomposition import FastICA\n",
        "\n",
        "# Parameters\n",
        "nTrain         = 630 # size of training set\n",
        "\n",
        "n_components   = 12  # ICA, PCA and PSLR components\n",
        "\n",
        "replications   = 100 # number of replications (for CV purposes)\n",
        "batch_size     = 14  # number of pictures per person\n",
        "\n",
        "# Number of components and model creation\n",
        "ica = FastICA(n_components=n_components)\n",
        "\n",
        "# Run experiments\n",
        "meanAccuracy  = 0\n",
        "confusionMean = np.zeros((K,K))\n",
        "\n",
        "for rep in tqdm(range(replications)):\n",
        "  Xtrain, ytrain, Xtest, ytest,_ = SplitTrainTest(X,y,nTrain,random='batch', batch_size = batch_size, seed=rep)\n",
        "\n",
        "  # Fit and transform train and test data\n",
        "  Xtrain_ica  = ica.fit_transform(Xtrain)\n",
        "  Xtest_ica   = ica.transform(Xtest)\n",
        "\n",
        "  # Classification\n",
        "  acc,C,ypred = ClassifierKNN(Xtrain_ica,ytrain,Xtest_ica,ytest, n_neighbors=3, echo='off')\n",
        "\n",
        "  # Update means\n",
        "  meanAccuracy = meanAccuracy + acc/replications\n",
        "  confusionMean = confusionMean + C/replications\n",
        "\n",
        "# Print results\n",
        "print(\"{:d} replications completed\".format(replications))\n",
        "\n",
        "print(\"Mean testing accuracy = {:.2f}%\".format(meanAccuracy*100), end='\\n')\n",
        "print(\"Mean confusion matrix\")\n",
        "printConfusionMatrix(confusionMean)"
      ],
      "execution_count": null,
      "outputs": []
    },
    {
      "cell_type": "markdown",
      "metadata": {
        "id": "55IWHtoWPJ22"
      },
      "source": [
        "### PCA (library ```sklearn```)"
      ]
    },
    {
      "cell_type": "code",
      "metadata": {
        "id": "sIQWfH6a7eKL"
      },
      "source": [
        "from   sklearn.decomposition import PCA\n",
        "\n",
        "# Parameters\n",
        "nTrain         = 630 # size of training set\n",
        "\n",
        "n_components   = 12  # ICA, PCA and PSLR components\n",
        "\n",
        "replications   = 100 # number of replications (for CV purposes)\n",
        "batch_size     = 14  # number of pictures per person\n",
        "\n",
        "# Number of components and model creation\n",
        "pca = PCA(n_components=n_components)\n",
        "\n",
        "# Run experiments\n",
        "meanAccuracy  = 0\n",
        "confusionMean = np.zeros((K,K))\n",
        "\n",
        "for rep in tqdm(range(replications)):\n",
        "  Xtrain, ytrain, Xtest, ytest,_ = SplitTrainTest(X,y,nTrain,random='batch', batch_size = batch_size, seed=rep)\n",
        "\n",
        "  # Fit and transform train and test data\n",
        "  Xtrain_pca  = pca.fit_transform(Xtrain)\n",
        "  Xtest_pca   = pca.transform(Xtest)\n",
        "\n",
        "  # Classification\n",
        "  acc,C,ypred = ClassifierKNN(Xtrain_pca,ytrain,Xtest_pca,ytest, n_neighbors=3, echo='off')\n",
        "\n",
        "  # Update means\n",
        "  meanAccuracy = meanAccuracy + acc/replications\n",
        "  confusionMean = confusionMean + C/replications\n",
        "\n",
        "# Print results\n",
        "print(\"{:d} replications completed\".format(replications))\n",
        "\n",
        "print(\"Mean testing accuracy = {:.2f}%\".format(meanAccuracy*100), end='\\n')\n",
        "print(\"Mean confusion matrix\")\n",
        "printConfusionMatrix(confusionMean)\n"
      ],
      "execution_count": null,
      "outputs": []
    },
    {
      "cell_type": "markdown",
      "metadata": {
        "id": "AdyREIVypQE1"
      },
      "source": [
        "### PSLR (library ```sklearn```)"
      ]
    },
    {
      "cell_type": "code",
      "metadata": {
        "id": "X0m0uifCpZOK"
      },
      "source": [
        "from sklearn.cross_decomposition import PLSRegression  \n",
        "\n",
        "# Parameters\n",
        "nTrain         = 630 # size of training set\n",
        "\n",
        "n_components   = 12  # ICA, PCA and PSLR components\n",
        "\n",
        "replications   = 100 # number of replications (for CV purposes)\n",
        "batch_size     = 14  # number of pictures per person\n",
        "\n",
        "# Number of components and model creation\n",
        "plsr = PLSRegression(n_components=n_components)\n",
        "\n",
        "# Run experiments\n",
        "meanAccuracy  = 0\n",
        "confusionMean = np.zeros((K,K))\n",
        "\n",
        "for rep in tqdm(range(replications)):\n",
        "  Xtrain, ytrain, Xtest, ytest,_ = SplitTrainTest(X,y,nTrain,random='batch', batch_size = batch_size, seed=rep)\n",
        "\n",
        "  # Fit and transform train and test data\n",
        "  plsr.fit(Xtrain,ytrain)\n",
        "  Xtrain_plsr  = plsr.transform(Xtrain)\n",
        "  Xtest_plsr   = plsr.transform(Xtest)\n",
        "\n",
        "  # Classification\n",
        "  acc,C,ypred = ClassifierKNN(Xtrain_plsr,ytrain,Xtest_plsr,ytest, n_neighbors=3, echo='off')\n",
        "\n",
        "  # Update means\n",
        "  meanAccuracy = meanAccuracy + acc/replications\n",
        "  confusionMean = confusionMean + C/replications\n",
        "\n",
        "# Print results\n",
        "print(\"{:d} replications completed\".format(replications))\n",
        "\n",
        "print(\"Mean testing accuracy = {:.2f}%\".format(meanAccuracy*100), end='\\n')\n",
        "print(\"Mean confusion matrix\")\n",
        "printConfusionMatrix(confusionMean)"
      ],
      "execution_count": null,
      "outputs": []
    },
    {
      "cell_type": "markdown",
      "metadata": {
        "id": "zjYI-zb7Lrx7"
      },
      "source": [
        "## 3. Mixed strategies (selection and transformation)\n",
        "\n",
        "| Strategy   | PCA/ICA/PSLR<br>components | SFS<br>columns |  Average<br>Accuracy  | Wrongly labeled<br>men (average) | Wrongly labeled<br> women (average) |\n",
        "|------------|:--------------------------:|:--------------------:|:-------------------:|:----------------------------------:| :-----------------: |\n",
        "| ICA + SFS  |  12  | **12**<br><br>10<br><br>6<br><br>4<br><br>1 | **84.34%**<br><br>85.16%<br><br>84.50%<br><br>84.01%<br><br>79.34% | **8.3**<br><br>8.5<br><br>10<br><br>10<br><br>15 | **14**<br><br>12<br><br>12<br><br>12<br><br>14 |\n",
        "| PCA + SFS  |  12  | **12**<br><br>10<br><br>6<br><br>4<br><br>1 | **86.50%**<br><br>87.34%<br><br>86.41%<br><br>85.02%<br><br>71.34% | **6.8**<br><br>6.5<br><br>8<br><br>10<br><br>20 | **12**<br><br>11<br><br>11<br><br>11<br><br>20 |\n",
        "| PLSR + SFS |  12  | **12**<br><br>10<br><br>6<br><br>4<br><br>1 | **94.55%**<br><br>95.09%<br><br>95.24%<br><br>94.17%<br><br>86.24% | **3.7**<br><br>3.4<br><br>3.5<br><br>4<br><br>8.8 | **3.9**<br><br>3.5<br><br>3.2<br><br>4.2<br><br>10 |\n",
        "\n"
      ]
    },
    {
      "cell_type": "markdown",
      "metadata": {
        "id": "1wtoXSqdL5rq"
      },
      "source": [
        "### ICA and SFS"
      ]
    },
    {
      "cell_type": "code",
      "metadata": {
        "id": "QhkqX8tPL5cU"
      },
      "source": [
        "from sklearn.decomposition import FastICA\n",
        "\n",
        "# Parameters\n",
        "nTrain         = 630 # size of training set\n",
        "\n",
        "n_components   = 20  # ICA, PCA and PSLR components\n",
        "sfs_columns    = 12   # number of features to select in sfs or sbs\n",
        "\n",
        "replications   = 100 # number of replications (for CV purposes)\n",
        "batch_size     = 14  # number of pictures per person\n",
        "\n",
        "# Number of components and model creation\n",
        "ica = FastICA(n_components=n_components)\n",
        "\n",
        "# Run experiments\n",
        "meanAccuracy  = 0\n",
        "confusionMean = np.zeros((K,K))\n",
        "\n",
        "for rep in tqdm(range(replications)):\n",
        "  Xtrain, ytrain, Xtest, ytest,_ = SplitTrainTest(X,y,nTrain,random='batch', batch_size = batch_size, seed=rep)\n",
        "\n",
        "  # Fit and transform train and test data\n",
        "  Xtrain_ica  = ica.fit_transform(Xtrain)\n",
        "  Xtest_ica   = ica.transform(Xtest)\n",
        "\n",
        "  # SBS\n",
        "  seqSel = SFS(KNeighborsClassifier(n_neighbors=5), \n",
        "            k_features=sfs_columns,\n",
        "            forward=True,\n",
        "            floating=False,\n",
        "            verbose=0,scoring='accuracy',cv=0, n_jobs=-1)\n",
        "\n",
        "  seqSel = seqSel.fit(Xtrain_ica, ytrain)\n",
        "\n",
        "  # Select columns\n",
        "  sel_cols   = list(seqSel.k_feature_idx_)\n",
        "  Xtrain_sfs = Xtrain_ica[:,sel_cols]\n",
        "  Xtest_sfs  = Xtest_ica[:,sel_cols]\n",
        "\n",
        "  # Classification\n",
        "  acc,C,ypred = ClassifierKNN(Xtrain_sfs, ytrain, Xtest_sfs, ytest, n_neighbors=3, echo='off')\n",
        "\n",
        "  # Update means\n",
        "  meanAccuracy = meanAccuracy + acc/replications\n",
        "  confusionMean = confusionMean + C/replications\n",
        "\n",
        "# Print results\n",
        "print(\"{:d} replications completed\".format(replications))\n",
        "\n",
        "print(\"Mean testing accuracy = {:.2f}%\".format(meanAccuracy*100), end='\\n')\n",
        "print(\"Mean confusion matrix\")\n",
        "printConfusionMatrix(confusionMean)"
      ],
      "execution_count": null,
      "outputs": []
    },
    {
      "cell_type": "markdown",
      "metadata": {
        "id": "wXS2rhGjL7pD"
      },
      "source": [
        "### PCA and SFS"
      ]
    },
    {
      "cell_type": "code",
      "metadata": {
        "id": "51rMmI11MABg"
      },
      "source": [
        "from   sklearn.decomposition import PCA\n",
        "\n",
        "# Parameters\n",
        "nTrain         = 630 # size of training set\n",
        "\n",
        "n_components   = 20  # ICA, PCA and PSLR components\n",
        "sfs_columns    = 12   # number of features to select in sfs or sbs\n",
        "\n",
        "replications   = 100 # number of replications (for CV purposes)\n",
        "batch_size     = 14  # number of pictures per person\n",
        "\n",
        "# Number of components and model creation\n",
        "pca = PCA(n_components=n_components)\n",
        "\n",
        "# Run experiments\n",
        "meanAccuracy  = 0\n",
        "confusionMean = np.zeros((K,K))\n",
        "\n",
        "for rep in tqdm(range(replications)):\n",
        "  Xtrain, ytrain, Xtest, ytest,_ = SplitTrainTest(X,y,nTrain,random='batch', batch_size = batch_size, seed=rep)\n",
        "\n",
        "  # Fit and transform train and test data\n",
        "  Xtrain_pca  = pca.fit_transform(Xtrain)\n",
        "  Xtest_pca   = pca.transform(Xtest)\n",
        "\n",
        "  # SBS\n",
        "  seqSel = SFS(KNeighborsClassifier(n_neighbors=5), \n",
        "            k_features=sfs_columns,\n",
        "            forward=True,\n",
        "            floating=False,\n",
        "            verbose=0,scoring='accuracy',cv=0, n_jobs=-1)\n",
        "\n",
        "  seqSel = seqSel.fit(Xtrain_pca, ytrain)\n",
        "\n",
        "  # Select columns\n",
        "  sel_cols   = list(seqSel.k_feature_idx_)\n",
        "  Xtrain_sfs = Xtrain_pca[:,sel_cols]\n",
        "  Xtest_sfs  = Xtest_pca[:,sel_cols]\n",
        "\n",
        "  # Classification\n",
        "  acc,C,ypred = ClassifierKNN(Xtrain_sfs,ytrain,Xtest_sfs,ytest, n_neighbors=3, echo='off')\n",
        "\n",
        "  # Update means\n",
        "  meanAccuracy = meanAccuracy + acc/replications\n",
        "  confusionMean = confusionMean + C/replications\n",
        "\n",
        "# Print results\n",
        "print(\"{:d} replications completed\".format(replications))\n",
        "\n",
        "print(\"Mean testing accuracy = {:.2f}%\".format(meanAccuracy*100), end='\\n')\n",
        "print(\"Mean confusion matrix\")\n",
        "printConfusionMatrix(confusionMean)"
      ],
      "execution_count": null,
      "outputs": []
    },
    {
      "cell_type": "markdown",
      "metadata": {
        "id": "UnxH369jL9L_"
      },
      "source": [
        "### PSLR and SFS"
      ]
    },
    {
      "cell_type": "code",
      "metadata": {
        "id": "4PrwllCDMAiJ"
      },
      "source": [
        "from sklearn.cross_decomposition import PLSRegression  \n",
        "\n",
        "# Parameters\n",
        "nTrain         = 630 # size of training set\n",
        "\n",
        "n_components   = 20  # ICA, PCA and PSLR components\n",
        "sfs_columns    = 12  # number of features to select in sfs or sbs\n",
        "\n",
        "replications   = 100 # number of replications (for CV purposes)\n",
        "batch_size     = 14  # number of pictures per person\n",
        "\n",
        "# Number of components and model creation\n",
        "plsr = PLSRegression(n_components=n_components)\n",
        "\n",
        "# Run experiments\n",
        "meanAccuracy  = 0\n",
        "confusionMean = np.zeros((K,K))\n",
        "\n",
        "for rep in tqdm(range(replications)):\n",
        "  Xtrain, ytrain, Xtest, ytest,_ = SplitTrainTest(X,y,nTrain,random='batch', batch_size = batch_size, seed=rep)\n",
        "\n",
        "  # Fit and transform train and test data\n",
        "  plsr.fit(Xtrain,ytrain)\n",
        "  Xtrain_plsr  = plsr.transform(Xtrain)\n",
        "  Xtest_plsr   = plsr.transform(Xtest)\n",
        "\n",
        "  # SFS\n",
        "  seqSel = SFS(KNeighborsClassifier(n_neighbors=5), \n",
        "            k_features=sfs_columns,\n",
        "            forward=True,\n",
        "            floating=False,\n",
        "            verbose=0,scoring='accuracy',cv=0, n_jobs=-1)\n",
        "\n",
        "  seqSel = seqSel.fit(Xtrain_plsr, ytrain)\n",
        "\n",
        "  # Select columns\n",
        "  sel_cols      = list(seqSel.k_feature_idx_)\n",
        "  Xtrain_seqSel = Xtrain_plsr[:,sel_cols]\n",
        "  Xtest_seqSel  = Xtest_plsr[:,sel_cols]\n",
        "\n",
        "  # Classification\n",
        "  acc,C,ypred = ClassifierKNN(Xtrain_seqSel,ytrain,Xtest_seqSel,ytest, n_neighbors=3, echo='off')\n",
        "\n",
        "  # Update means\n",
        "  meanAccuracy = meanAccuracy + acc/replications\n",
        "  confusionMean = confusionMean + C/replications\n",
        "\n",
        "# Print results\n",
        "print(\"{:d} replications completed\".format(replications))\n",
        "\n",
        "print(\"Mean testing accuracy = {:.2f}%\".format(meanAccuracy*100), end='\\n')\n",
        "print(\"Mean confusion matrix\")\n",
        "printConfusionMatrix(confusionMean)"
      ],
      "execution_count": null,
      "outputs": []
    },
    {
      "cell_type": "markdown",
      "metadata": {
        "id": "eR7CuHTcePO2"
      },
      "source": [
        "### ICA and SFS per set"
      ]
    },
    {
      "cell_type": "code",
      "metadata": {
        "id": "8GR6A9FmePO2"
      },
      "source": [
        "from sklearn.decomposition import FastICA\n",
        "\n",
        "# Parameters\n",
        "nTrain         = 630 # size of training set\n",
        "\n",
        "n_components   = 12  # ICA, PCA and PSLR components per set of features\n",
        "sfs_columns    = 4  # number of features to select in sfs per set\n",
        "\n",
        "replications   = 100 # number of replications (for CV purposes)\n",
        "batch_size     = 14  # number of pictures per person\n",
        "\n",
        "# Run experiments\n",
        "meanAccuracy  = 0\n",
        "confusionMean = np.zeros((K,K))\n",
        "\n",
        "for rep in tqdm(range(replications)):\n",
        "\n",
        "  # Initialize matrix of features\n",
        "  Xtrain_sfs = np.zeros((nTrain*K,1))\n",
        "  Xtest_sfs  = np.zeros((X.shape[0]-Xtrain_sfs.shape[0],1))\n",
        "\n",
        "  for Xf in [Xlbp_noDiv, Xlbp, Xhog]:\n",
        "    Xtrain, ytrain, Xtest, ytest,_ = SplitTrainTest(Xf,y,nTrain,random='batch', batch_size = batch_size, seed=0)\n",
        "\n",
        "    # Number of components and model creation\n",
        "    ica = FastICA(n_components=n_components)\n",
        "\n",
        "    # Fit and transform train and test data\n",
        "    Xtrain_ica  = ica.fit_transform(Xtrain)\n",
        "    Xtest_ica   = ica.transform(Xtest)\n",
        "\n",
        "    # SFS\n",
        "    sfs = SFS(KNeighborsClassifier(n_neighbors=5), \n",
        "              k_features=sfs_columns,\n",
        "              forward=True,\n",
        "              floating=False,\n",
        "              verbose=0,scoring='accuracy',cv=0, n_jobs=-1)\n",
        "\n",
        "    sfs = sfs.fit(Xtrain_ica, ytrain)\n",
        "\n",
        "    # Select columns\n",
        "    sel_cols   = list(sfs.k_feature_idx_)\n",
        "    Xtrain_sfs = np.concatenate((Xtrain_sfs,Xtrain_ica[:,sel_cols]),axis=1)\n",
        "    Xtest_sfs  = np.concatenate((Xtest_sfs,Xtest_ica[:,sel_cols]),axis=1)\n",
        "\n",
        "  # Classification\n",
        "  acc,C,ypred = ClassifierKNN(Xtrain_sfs[:,1:], ytrain, Xtest_sfs[:,1:], ytest, n_neighbors=3, echo='off')\n",
        "\n",
        "  # Update means\n",
        "  meanAccuracy = meanAccuracy + acc/replications\n",
        "  confusionMean = confusionMean + C/replications\n",
        "\n",
        "# Print results\n",
        "print(\"{:d} replications completed\".format(replications))\n",
        "\n",
        "print(\"Mean testing accuracy = {:.2f}%\".format(meanAccuracy*100), end='\\n')\n",
        "print(\"Mean confusion matrix\")\n",
        "printConfusionMatrix(confusionMean)"
      ],
      "execution_count": null,
      "outputs": []
    },
    {
      "cell_type": "markdown",
      "metadata": {
        "id": "kxN46iqzePO3"
      },
      "source": [
        "### PCA and SFS per set"
      ]
    },
    {
      "cell_type": "code",
      "metadata": {
        "id": "TKpQvXCPePO3"
      },
      "source": [
        "from   sklearn.decomposition import PCA\n",
        "\n",
        "# Parameters\n",
        "nTrain         = 630 # size of training set\n",
        "\n",
        "n_components   = 12  # ICA, PCA and PSLR components per set of features\n",
        "sfs_columns    = 4  # number of features to select in sfs per set\n",
        "\n",
        "replications   = 100 # number of replications (for CV purposes)\n",
        "batch_size     = 14  # number of pictures per person\n",
        "\n",
        "# Run experiments\n",
        "meanAccuracy  = 0\n",
        "confusionMean = np.zeros((K,K))\n",
        "\n",
        "for rep in tqdm(range(replications)):\n",
        "\n",
        "  # Initialize matrix of features\n",
        "  Xtrain_sfs = np.zeros((nTrain*K,1))\n",
        "  Xtest_sfs  = np.zeros((X.shape[0]-Xtrain_sfs.shape[0],1))\n",
        "\n",
        "  for Xf in [Xlbp_noDiv, Xlbp, Xhog]:\n",
        "    Xtrain, ytrain, Xtest, ytest,_ = SplitTrainTest(Xf,y,nTrain,random='batch', batch_size = batch_size, seed=0)\n",
        "\n",
        "    # Number of components and model creation\n",
        "    pca = PCA(n_components=n_components)\n",
        "\n",
        "    # Fit and transform train and test data\n",
        "    Xtrain_pca  = pca.fit_transform(Xtrain)\n",
        "    Xtest_pca   = pca.transform(Xtest)\n",
        "\n",
        "    # SFS\n",
        "    sfs = SFS(KNeighborsClassifier(n_neighbors=5), \n",
        "              k_features=sfs_columns,\n",
        "              forward=True,\n",
        "              floating=False,\n",
        "              verbose=0,scoring='accuracy',cv=0, n_jobs=-1)\n",
        "\n",
        "    sfs = sfs.fit(Xtrain_pca, ytrain)\n",
        "\n",
        "    # Select columns\n",
        "    sel_cols   = list(sfs.k_feature_idx_)\n",
        "    Xtrain_sfs = np.concatenate((Xtrain_sfs,Xtrain_pca[:,sel_cols]),axis=1)\n",
        "    Xtest_sfs  = np.concatenate((Xtest_sfs,Xtest_pca[:,sel_cols]),axis=1)\n",
        "\n",
        "  # Classification\n",
        "  acc,C,ypred = ClassifierKNN(Xtrain_sfs[:,1:], ytrain, Xtest_sfs[:,1:], ytest, n_neighbors=3, echo='off')\n",
        "\n",
        "  # Update means\n",
        "  meanAccuracy = meanAccuracy + acc/replications\n",
        "  confusionMean = confusionMean + C/replications\n",
        "\n",
        "# Print results\n",
        "print(\"{:d} replications completed\".format(replications))\n",
        "\n",
        "print(\"Mean testing accuracy = {:.2f}%\".format(meanAccuracy*100), end='\\n')\n",
        "print(\"Mean confusion matrix\")\n",
        "printConfusionMatrix(confusionMean)"
      ],
      "execution_count": null,
      "outputs": []
    },
    {
      "cell_type": "markdown",
      "metadata": {
        "id": "YuCzeIbWePO4"
      },
      "source": [
        "### PSLR and SFS per set"
      ]
    },
    {
      "cell_type": "code",
      "metadata": {
        "id": "wkFr7cZpePO4"
      },
      "source": [
        "from sklearn.cross_decomposition import PLSRegression  \n",
        "\n",
        "# Parameters\n",
        "nTrain         = 630 # size of training set\n",
        "\n",
        "n_components   = 12  # ICA, PCA and PSLR components per set of features\n",
        "sfs_columns    = 4  # number of features to select in sfs per set\n",
        "\n",
        "replications   = 100 # number of replications (for CV purposes)\n",
        "batch_size     = 14  # number of pictures per person\n",
        "\n",
        "# Run experiments\n",
        "meanAccuracy  = 0\n",
        "confusionMean = np.zeros((K,K))\n",
        "\n",
        "for rep in tqdm(range(replications)):\n",
        "\n",
        "  # Initialize matrix of features\n",
        "  Xtrain_sfs = np.zeros((nTrain*K,1))\n",
        "  Xtest_sfs  = np.zeros((X.shape[0]-Xtrain_sfs.shape[0],1))\n",
        "\n",
        "  for Xf in [Xlbp_noDiv, Xlbp, Xhog]:\n",
        "    Xtrain, ytrain, Xtest, ytest,_ = SplitTrainTest(Xf,y,nTrain,random='batch', batch_size = batch_size, seed=0)\n",
        "\n",
        "    # Number of components and model creation\n",
        "    plsr = PLSRegression(n_components=n_components)\n",
        "\n",
        "    # Fit and transform train and test data\n",
        "    plsr.fit(Xtrain,ytrain)\n",
        "    Xtrain_plsr  = plsr.transform(Xtrain)\n",
        "    Xtest_plsr   = plsr.transform(Xtest)\n",
        "\n",
        "    # SFS\n",
        "    sfs = SFS(KNeighborsClassifier(n_neighbors=5), \n",
        "              k_features=sfs_columns,\n",
        "              forward=True,\n",
        "              floating=False,\n",
        "              verbose=0,scoring='accuracy',cv=0, n_jobs=-1)\n",
        "\n",
        "    sfs = sfs.fit(Xtrain_plsr, ytrain)\n",
        "\n",
        "    # Select columns\n",
        "    sel_cols   = list(sfs.k_feature_idx_)\n",
        "    Xtrain_sfs = np.concatenate((Xtrain_sfs,Xtrain_plsr[:,sel_cols]),axis=1)\n",
        "    Xtest_sfs  = np.concatenate((Xtest_sfs,Xtest_plsr[:,sel_cols]),axis=1)\n",
        "\n",
        "  # Classification\n",
        "  acc,C,ypred = ClassifierKNN(Xtrain_sfs[:,1:], ytrain, Xtest_sfs[:,1:], ytest, n_neighbors=3, echo='off')\n",
        "\n",
        "  # Update means\n",
        "  meanAccuracy = meanAccuracy + acc/replications\n",
        "  confusionMean = confusionMean + C/replications\n",
        "\n",
        "# Print results\n",
        "print(\"{:d} replications completed\".format(replications))\n",
        "\n",
        "print(\"Mean testing accuracy = {:.2f}%\".format(meanAccuracy*100), end='\\n')\n",
        "print(\"Mean confusion matrix\")\n",
        "printConfusionMatrix(confusionMean)"
      ],
      "execution_count": null,
      "outputs": []
    }
  ]
}