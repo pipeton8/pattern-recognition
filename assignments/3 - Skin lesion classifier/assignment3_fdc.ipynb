{
  "nbformat": 4,
  "nbformat_minor": 0,
  "metadata": {
    "colab": {
      "name": "assignment3_fdc.ipynb",
      "provenance": [],
      "collapsed_sections": [],
      "toc_visible": true,
      "authorship_tag": "ABX9TyOrmIMvIJLM5jvF4E4ZwWqn",
      "include_colab_link": true
    },
    "kernelspec": {
      "display_name": "Python 3",
      "name": "python3"
    },
    "language_info": {
      "name": "python"
    }
  },
  "cells": [
    {
      "cell_type": "markdown",
      "metadata": {
        "id": "view-in-github",
        "colab_type": "text"
      },
      "source": [
        "<a href=\"https://colab.research.google.com/github/pipeton8/pattern-recognition/blob/main/assignments/3%20-%20Skin%20lesion%20classifier/assignment3_fdc.ipynb\" target=\"_parent\"><img src=\"https://colab.research.google.com/assets/colab-badge.svg\" alt=\"Open In Colab\"/></a>"
      ]
    },
    {
      "cell_type": "markdown",
      "metadata": {
        "id": "HLBYjsokUTdD"
      },
      "source": [
        "# Assignment 3 - Skin cancer recognition\n",
        "\n",
        "(c) Felipe del Canto, June 2021\n",
        "\n",
        "---\n",
        "\n",
        "# Skin cancer recognition"
      ]
    },
    {
      "cell_type": "code",
      "metadata": {
        "id": "YkuXzh-RTSNf"
      },
      "source": [
        "# Set preLoad = True if loading features from file (recommended)\n",
        "preLoad = True"
      ],
      "execution_count": null,
      "outputs": []
    },
    {
      "cell_type": "markdown",
      "metadata": {
        "id": "T9dnyTpwO6jg"
      },
      "source": [
        "# 0. Preamble"
      ]
    },
    {
      "cell_type": "markdown",
      "metadata": {
        "id": "wZ7J_5ylO8xX"
      },
      "source": [
        "## Load libraries"
      ]
    },
    {
      "cell_type": "code",
      "metadata": {
        "colab": {
          "base_uri": "https://localhost:8080/"
        },
        "id": "pVqXD2SwSZWP",
        "outputId": "3ae3ee62-74a3-4f6f-fbfa-ba473b551990"
      },
      "source": [
        "from IPython.display import clear_output\n",
        "\n",
        "!pip install scipy==1.2\n",
        "!pip3 install pybalu==0.2.5\n",
        "clear_output()\n",
        "print('PyBalu library installed.')"
      ],
      "execution_count": null,
      "outputs": [
        {
          "output_type": "stream",
          "text": [
            "PyBalu library installed.\n"
          ],
          "name": "stdout"
        }
      ]
    },
    {
      "cell_type": "code",
      "metadata": {
        "id": "xOsVwQu_Pzm3"
      },
      "source": [
        "# General purpose\n",
        "import os\n",
        "from   google.colab import files\n",
        "\n",
        "import numpy             as np\n",
        "import matplotlib.pyplot as plt\n",
        "import pandas            as pd\n",
        "\n",
        "import cv2\n",
        "\n",
        "# Utilities\n",
        "from   seaborn                  import heatmap\n",
        "from   tqdm.auto                import tqdm\n",
        "from   skimage.color            import rgb2gray, rgb2hsv\n",
        "from   pybalu.feature_selection import clean\n",
        "\n",
        "# Image processing\n",
        "from   skimage         import feature\n",
        "from   skimage.filters import threshold_otsu, threshold_minimum\n",
        "from   scipy.ndimage   import binary_closing, binary_dilation, binary_fill_holes\n",
        "from   scipy           import ndimage\n",
        "\n",
        "# Features\n",
        "from   pybalu.feature_extraction import lbp_features, hog_features, basic_geo_features\n",
        "\n",
        "# Model selection\n",
        "from   sklearn.model_selection import StratifiedKFold\n",
        "\n",
        "# Metrics\n",
        "from   sklearn.metrics import confusion_matrix"
      ],
      "execution_count": null,
      "outputs": []
    },
    {
      "cell_type": "markdown",
      "metadata": {
        "id": "FHKi2Q1tPNqk"
      },
      "source": [
        "## Load database"
      ]
    },
    {
      "cell_type": "code",
      "metadata": {
        "colab": {
          "base_uri": "https://localhost:8080/"
        },
        "id": "XjEC8ldPSKUZ",
        "outputId": "20ee9b57-e598-4e4d-d5e2-c0db816daef0"
      },
      "source": [
        "!wget 'https://github.com/pipeton8/pattern-recognition/raw/main/assignments/databases/skin.zip' -O 'skin.zip'\n",
        "!unzip -o -q 'skin.zip'\n",
        "!rm 'skin.zip'\n",
        "clear_output()\n",
        "print(\"Database Loaded\")"
      ],
      "execution_count": null,
      "outputs": [
        {
          "output_type": "stream",
          "text": [
            "Database Loaded\n"
          ],
          "name": "stdout"
        }
      ]
    },
    {
      "cell_type": "markdown",
      "metadata": {
        "id": "MbPxmMsyUBWL"
      },
      "source": [
        "## Load features"
      ]
    },
    {
      "cell_type": "code",
      "metadata": {
        "colab": {
          "base_uri": "https://localhost:8080/"
        },
        "id": "YkTXWMXcUE4k",
        "outputId": "91c93a66-540c-4920-8d1e-a581e66eedc6"
      },
      "source": [
        "if preLoad:\n",
        "  !gdown --id '1Z6NUp49Q36ycTO9bleuKTXtdRISu00h0'\n",
        "  clear_output()\n",
        "  skin = pd.read_csv('skin.csv')\n",
        "  print(\"Features Loaded\")"
      ],
      "execution_count": null,
      "outputs": [
        {
          "output_type": "stream",
          "text": [
            "Features Loaded\n"
          ],
          "name": "stdout"
        }
      ]
    },
    {
      "cell_type": "markdown",
      "metadata": {
        "id": "UDBFywZqi24X"
      },
      "source": [
        "## Image manipulation functions"
      ]
    },
    {
      "cell_type": "code",
      "metadata": {
        "id": "F4QAaaXei4Qw"
      },
      "source": [
        "def getImageList(prefix, dataset, classNumber):\n",
        "  path = dataset + '/' + 'class_{:d}'.format(classNumber)\n",
        "\n",
        "  imgList = os.listdir(path)\n",
        "  imgList = [imgList[i] for i in range(len(imgList)) if imgList[i].find(prefix) != -1 ]\n",
        "\n",
        "  return imgList\n",
        "\n",
        "def ImageLoad(dataset, classNumber, name):\n",
        "  st   = dataset + '/' + 'class_{:d}'.format(classNumber) + '/' + name\n",
        "\n",
        "  return plt.imread(st)"
      ],
      "execution_count": null,
      "outputs": []
    },
    {
      "cell_type": "code",
      "metadata": {
        "id": "MWh1nNklgxEZ"
      },
      "source": [
        "def remove_hair(image):\n",
        "    # source: https://stackoverflow.com/questions/66508552/hair-removal-from-an-image-method\n",
        "    # Original code: https://github.com/sunnyshah2894/DigitalHairRemoval\n",
        "\n",
        "    # convert image to grayScale\n",
        "    grayScale = cv2.cvtColor(image, cv2.COLOR_RGB2GRAY)\n",
        "    \n",
        "    # kernel for morphologyEx\n",
        "    kernel = cv2.getStructuringElement(1,(17,17))\n",
        "    \n",
        "    # apply MORPH_BLACKHAT to grayScale image\n",
        "    blackhat = cv2.morphologyEx(grayScale, cv2.MORPH_BLACKHAT, kernel)\n",
        "    \n",
        "    # apply thresholding to blackhat\n",
        "    _,threshold = cv2.threshold(blackhat,10,255,cv2.THRESH_BINARY)\n",
        "    \n",
        "    # inpaint with original image and threshold image\n",
        "    final_image = cv2.inpaint(image,threshold,1,cv2.INPAINT_TELEA)\n",
        "    \n",
        "    return final_image"
      ],
      "execution_count": null,
      "outputs": []
    },
    {
      "cell_type": "code",
      "metadata": {
        "id": "0pfdQksvhilo"
      },
      "source": [
        "def segment_lesion(image):\n",
        "  final_seg = np.zeros_like(image[:,:,0])\n",
        "\n",
        "  for channel in range(img.shape[2]+1): \n",
        "    # Retrieve channel or grayscale image\n",
        "    try:\n",
        "      img2seg = image[:,:,channel]\n",
        "    except:\n",
        "      img2seg = rgb2gray(image)\n",
        "\n",
        "    img2seg = segment_channel(img2seg)\n",
        "\n",
        "    final_seg = final_seg + img2seg/4\n",
        "\n",
        "    # Create mask to delete borders \n",
        "    mask = np.zeros_like(final_seg, dtype='int')\n",
        "    mask[10:-10, 10:-10] = 1\n",
        "\n",
        "    # Apply mask and fill holes\n",
        "    final_seg = binary_fill_holes(final_seg * mask > 0)\n",
        "\n",
        "    # Keep biggest region\n",
        "    final_seg = retain_biggest_region(final_seg)\n",
        "\n",
        "  return final_seg\n",
        "\n",
        "def segment_channel(img2seg):\n",
        "  # Sometimes, local maxima are not found\n",
        "  try:\n",
        "    img2seg_min  = (img2seg < threshold_minimum(img2seg)).astype(float)\n",
        "  except:\n",
        "    img2seg_min  = np.ones_like(img2seg)\n",
        "\n",
        "  img2seg_otsu = (img2seg < threshold_otsu(img2seg)).astype(float)\n",
        "\n",
        "  return ((img2seg_min+img2seg_otsu) >= 1).astype(float)\n",
        "\n",
        "def retain_biggest_region(image):\n",
        "  label_im, nb_labels = ndimage.label(image)\n",
        "\n",
        "  sizes = ndimage.sum(image, label_im, range(nb_labels + 1))\n",
        "  \n",
        "  mask = sizes == max(sizes)\n",
        "  \n",
        "  binary_img = mask[label_im]\n",
        "\n",
        "  return binary_img"
      ],
      "execution_count": null,
      "outputs": []
    },
    {
      "cell_type": "markdown",
      "metadata": {
        "id": "3hoNcgLhSx7v"
      },
      "source": [
        "## Data processing functions"
      ]
    },
    {
      "cell_type": "code",
      "metadata": {
        "id": "h9p2vPgBSzgW"
      },
      "source": [
        "# Split dataset for classification (only for holdout)\n",
        "def prepareData(df, test=False):   \n",
        "  if test:\n",
        "    df_train = df[df['set'] != 'test']\n",
        "    df_test  = df[df['set'] == 'test']\n",
        "  \n",
        "  else:\n",
        "    df_train = df[df['set'] == 'train']\n",
        "    df_test  = df[df['set'] == 'val']\n",
        "  \n",
        "  Xtrain, ytrain = df_train.iloc[:,3:].to_numpy(), df_train['class'].to_numpy()\n",
        "  Xtest , ytest  = df_test.iloc[:,3:].to_numpy() , df_test['class'].to_numpy()\n",
        "\n",
        "  Xtrain, Xtest  = preprocess(Xtrain, Xtest)\n",
        "\n",
        "  return Xtrain, ytrain, Xtest, ytest"
      ],
      "execution_count": null,
      "outputs": []
    },
    {
      "cell_type": "code",
      "metadata": {
        "id": "M4ldCx2dh0gC"
      },
      "source": [
        "# Preprocessing function\n",
        "def preprocess(Xtrain, Xtest):\n",
        "    # Select columns that are not constant and for those which are highly correlated, \n",
        "    # leave only one occurrence. The choice is done only using the train set.\n",
        "    # For val/test df just delete columns and normalize\n",
        "\n",
        "    # Clean\n",
        "    clean_selection = clean(Xtrain)\n",
        "\n",
        "    Xtrain = Xtrain[:,clean_selection]\n",
        "    Xtest  = Xtest[:,clean_selection]\n",
        "\n",
        "    # Normalize\n",
        "    Xtrain, a, b = minmax(Xtrain)\n",
        "    Xtest        = Xtest*a + b\n",
        "\n",
        "    return Xtrain, Xtest"
      ],
      "execution_count": null,
      "outputs": []
    },
    {
      "cell_type": "code",
      "metadata": {
        "id": "IqSpWdLkGLKq"
      },
      "source": [
        "def minmax(X):\n",
        "  min = X.min(axis=0) # vector of column-wise minima\n",
        "  max = X.max(axis=0) # vector of column-wise maxima\n",
        "\n",
        "  range         = max - min   # vector of column-wise ranges\n",
        "  scale_coef    = 1/range     # scale coefficient\n",
        "  position_coef = -min/range  # position coefficient\n",
        "\n",
        "  # Return normalized features and coefficients to normalize test set\n",
        "  return X*scale_coef + position_coef, scale_coef, position_coef"
      ],
      "execution_count": null,
      "outputs": []
    },
    {
      "cell_type": "markdown",
      "metadata": {
        "id": "2IVWCGLJg_nk"
      },
      "source": [
        "## Classification functions"
      ]
    },
    {
      "cell_type": "code",
      "metadata": {
        "id": "rCrO9YJfYm6x"
      },
      "source": [
        "# Use selector to transform features\n",
        "def selectOrTransform(sel, Xtrain, ytrain, Xtest):\n",
        "  sel.fit(Xtrain, ytrain)\n",
        "\n",
        "  return sel.transform(Xtrain), sel.transform(Xtest)\n",
        "\n",
        "# Use classifier to predict outcomes\n",
        "def classify(clf, Xtrain, ytrain, Xtest):\n",
        "  clf.fit(Xtrain, ytrain)\n",
        "\n",
        "  return clf.predict(Xtrain), clf.predict(Xtest)"
      ],
      "execution_count": null,
      "outputs": []
    },
    {
      "cell_type": "markdown",
      "metadata": {
        "id": "UyJVClgQeZpb"
      },
      "source": [
        "## Score functions"
      ]
    },
    {
      "cell_type": "code",
      "metadata": {
        "id": "MmSv77sxnRQj"
      },
      "source": [
        "def getMetrics(ytrain, ypred_train, ytest, ypred_test):\n",
        "\n",
        "  # Get training and testing confusion matrices\n",
        "  Ctrain = confusion_matrix(ytrain, ypred_train)\n",
        "  Ctest  = confusion_matrix(ytest , ypred_test)\n",
        "\n",
        "  return Ctrain, Ctest"
      ],
      "execution_count": null,
      "outputs": []
    },
    {
      "cell_type": "code",
      "metadata": {
        "id": "MBKdKkfwjOMh"
      },
      "source": [
        "def displayMetrics(Ctrain, Ctest, cv = False, test=False, mode='heatmap'):\n",
        "  \n",
        "  # Compute accuracy scores\n",
        "  trainAcc = np.mean(np.trace(Ctrain)/np.sum(Ctrain,(0,1)) * 100)\n",
        "  testAcc  = np.mean(np.trace(Ctest)/np.sum(Ctest,(0,1)) * 100)\n",
        "  \n",
        "  # If CV, compute average confusion matrix\n",
        "  if cv:\n",
        "    Ctrain = np.mean(Ctrain, axis=2)\n",
        "    Ctest  = np.mean(Ctest , axis=2)\n",
        "\n",
        "  # Compute \n",
        "  TPR      = Ctest[0,0]/(Ctest[0,0]+Ctest[0,1]) * 100\n",
        "  FPR      = Ctest[1,0]/(Ctest[1,0]+Ctest[1,1]) * 100\n",
        "\n",
        "  setName = 'Test'*test + 'Validation'*(1-test)\n",
        "\n",
        "  print(f'Training Accuracy = {trainAcc:.2f}%')\n",
        "  print(f'{setName} Accuracy = {testAcc:.2f}%',end='\\n\\n')\n",
        "  print(f'True Positive Rate  (TPR) = {TPR:.2f}%')\n",
        "  print(f'False Negative Rate (FNR) = {100-TPR:.2f}%')\n",
        "  print(f'False Positive Rate (FPR) = {FPR:.2f}%')\n",
        "  print(f'True Negative Rate  (TPR) = {100-FPR:.2f}%')\n",
        "\n",
        "  print(\"\\nTrain Confusion Matrix\")\n",
        "  printConfusionMatrix(Ctrain,mode)\n",
        "\n",
        "  print(f\"\\n{setName} Confusion Matrix\")\n",
        "  printConfusionMatrix(Ctest,mode)"
      ],
      "execution_count": null,
      "outputs": []
    },
    {
      "cell_type": "code",
      "metadata": {
        "id": "R1z3FqI6eYXR"
      },
      "source": [
        "# Confusion matrix print function\n",
        "def printConfusionMatrix(C, mode='heatmap'):\n",
        "  if mode == 'heatmap':\n",
        "\n",
        "    heatmap(C, annot=True, cbar=None, cmap=\"Blues\", fmt='.1f')\n",
        "    plt.title(\"Confusion Matrix\")\n",
        "    plt.tight_layout()\n",
        "    \n",
        "    plt.ylabel(\"True Class\")\n",
        "    plt.xlabel(\"Predicted Class\")\n",
        "\n",
        "    labels = ['Bening', 'Malignant']\n",
        "    plt.xticks([0.5,1.5], labels)\n",
        "    plt.yticks([0.5,1.5], labels, va = 'center')\n",
        "\n",
        "    plt.show()\n",
        "\n",
        "  else:  \n",
        "    print('\\nConfusion matrix:')\n",
        "    print(C)\n",
        "\n",
        "  return None"
      ],
      "execution_count": null,
      "outputs": []
    },
    {
      "cell_type": "markdown",
      "metadata": {
        "id": "lMm1J-AirKUl"
      },
      "source": [
        "## Experiment function"
      ]
    },
    {
      "cell_type": "code",
      "metadata": {
        "id": "4XaCZNhQYBWU"
      },
      "source": [
        "def experiment(df, sel, clf, cv=None, display=True, test=False):\n",
        "  if cv is not None:\n",
        "    # Remove test observations\n",
        "    df = df[df['set'] != 'test']\n",
        "\n",
        "    # Create class vector to stratify\n",
        "    y = df['class'].to_numpy()\n",
        "\n",
        "    # Define Stratified KFold object\n",
        "    skf = StratifiedKFold(n_splits=cv, random_state=0)\n",
        "\n",
        "    # Execute CV\n",
        "    Ctrain, Ctest = run_cv(df,y,skf,sel,clf)\n",
        "\n",
        "    # Display metrics\n",
        "    displayMetrics(Ctrain, Ctest, cv=True)\n",
        "\n",
        "    return None\n",
        "\n",
        "  # Split data\n",
        "  Xtrain, ytrain, Xtest, ytest = prepareData(df, test=test)\n",
        "\n",
        "  # Select or transform features\n",
        "  Xtrain, Xtest = selectOrTransform(sel, Xtrain, ytrain, Xtest)\n",
        "\n",
        "  # Classify\n",
        "  ypred_train, ypred_test = classify(clf, Xtrain, ytrain, Xtest)\n",
        "\n",
        "  # Obtain confusion matrices\n",
        "  Ctrain, Ctest = getMetrics(ytrain, ypred_train, ytest, ypred_test)\n",
        "\n",
        "  # Display\n",
        "  if display:\n",
        "    displayMetrics(Ctrain, Ctest)\n",
        "\n",
        "    return None\n",
        "\n",
        "  return Ctrain, Ctest"
      ],
      "execution_count": null,
      "outputs": []
    },
    {
      "cell_type": "code",
      "metadata": {
        "id": "dYYOcJ5FdMU0"
      },
      "source": [
        "def run_cv(df, y, skf, sel, clf):\n",
        "  # Initialize confusion matrices\n",
        "  Ctrain, Ctest = np.zeros((2,2,cv)), np.zeros((2,2,cv))\n",
        "\n",
        "  for i,(train_index, test_index) in enumerate(skf.split(np.zeros_like(y), y)):\n",
        "    # For each fold, redefine test/train sets accordingly\n",
        "    df['set'].iloc[train_index] = 'train'\n",
        "    df['set'].iloc[test_index]  = 'test'\n",
        "\n",
        "    # Run experiment\n",
        "    newCtrain, newCtest = experiment(df,sel,clf, display=False)\n",
        "\n",
        "    # Update metrics\n",
        "    Ctrain[:,:,i] = newCtrain\n",
        "    Ctest[:,:,i]  = newCtest\n",
        "    \n",
        "  return Ctrain, Ctest"
      ],
      "execution_count": null,
      "outputs": []
    },
    {
      "cell_type": "markdown",
      "metadata": {
        "id": "Rdjz47KzxCXd"
      },
      "source": [
        "# 1. Image analysis"
      ]
    },
    {
      "cell_type": "markdown",
      "metadata": {
        "id": "oEH6Kyc9fEf_"
      },
      "source": [
        "## 1. Hair removal"
      ]
    },
    {
      "cell_type": "code",
      "metadata": {
        "colab": {
          "base_uri": "https://localhost:8080/",
          "height": 161
        },
        "id": "4HKAm-RaeFtv",
        "outputId": "d3b72114-1778-4b7c-dce8-a8eb1e0823a3"
      },
      "source": [
        "# Parameters\n",
        "imageName = 'ISIC_0024501.jpg'\n",
        "setToLoad = 'train'\n",
        "classToLoad = 0\n",
        "\n",
        "# Create plots and title\n",
        "fig, axs = plt.subplots(1, 2)#, sharex = 'all', sharey = 'all')\n",
        "#fig.patch.set_facecolor('blueviolet')\n",
        "\n",
        "# Load image\n",
        "img = ImageLoad(setToLoad,classToLoad,imageName)\n",
        "\n",
        "# Show image with hair\n",
        "axs[0].set_title('Hair')#,color='white')\n",
        "axs[0].imshow(img)\n",
        "axs[0].set_axis_off()\n",
        "\n",
        "# Show image with no hair\n",
        "axs[1].set_title('No hair')#,color='white')\n",
        "axs[1].imshow(remove_hair(img))\n",
        "axs[1].set_axis_off()"
      ],
      "execution_count": null,
      "outputs": [
        {
          "output_type": "display_data",
          "data": {
            "image/png": "[encoded data removed]",
            "text/plain": [
              "<Figure size 432x288 with 2 Axes>"
            ]
          },
          "metadata": {
            "tags": []
          }
        }
      ]
    },
    {
      "cell_type": "markdown",
      "metadata": {
        "id": "gAYHUCMogCSk"
      },
      "source": [
        "## 2. Segment lesion"
      ]
    },
    {
      "cell_type": "code",
      "metadata": {
        "colab": {
          "base_uri": "https://localhost:8080/",
          "height": 286
        },
        "id": "2DkC75OmJMor",
        "outputId": "566d5b9d-f767-47ed-9d31-a9d570e3820a"
      },
      "source": [
        "# Parameters\n",
        "imagesToLoad = ['ISIC_0032228.jpg', 'ISIC_0033534.jpg']\n",
        "\n",
        "# Create plots and title\n",
        "fig, axs = plt.subplots(2, 2)#, sharex = 'all', sharey = 'all')\n",
        "#fig.patch.set_facecolor('blueviolet')\n",
        "fig.suptitle(\"Images of bening and malignant skin lesions\",y=1.01)#,color='white')\n",
        "\n",
        "for k in range(2):\n",
        "  # Store image of corresponding class from the train set  \n",
        "  img = remove_hair(ImageLoad('train',k,imagesToLoad[k]))\n",
        "\n",
        "  final_seg = segment_lesion(img)\n",
        "\n",
        "  # Set title\n",
        "  image_title = \"Bening\"*(k == 0) + \"Malignant\"*(k==1)\n",
        "  axs[0,k].set_title(\"{:s}\".format(image_title))#,color='white')\n",
        "\n",
        "  axs[0,k].imshow(img)\n",
        "  axs[0,k].set_axis_off()\n",
        "\n",
        "  axs[1,k].imshow(final_seg, cmap = 'gray')\n",
        "  axs[1,k].set_axis_off()"
      ],
      "execution_count": null,
      "outputs": [
        {
          "output_type": "display_data",
          "data": {
            "image/png": "[encoded data removed]",
            "text/plain": [
              "<Figure size 432x288 with 4 Axes>"
            ]
          },
          "metadata": {
            "tags": []
          }
        }
      ]
    },
    {
      "cell_type": "markdown",
      "metadata": {
        "id": "Ol4Y6ohRPpRw"
      },
      "source": [
        "# 2. Feature extraction"
      ]
    },
    {
      "cell_type": "code",
      "metadata": {
        "colab": {
          "base_uri": "https://localhost:8080/"
        },
        "id": "KLGqkQRloaLt",
        "outputId": "3b65a91b-11be-4b69-c01c-29e24a75774c"
      },
      "source": [
        "## General parameters\n",
        "K  = 2                  # number of classes\n",
        "N  = { 'train' : 1350,  # number of images per class in train folder\n",
        "       'test'  : 300,   # number of images per class in test  folder\n",
        "       'val'   : 150}   # number of images per class in val   folder\n",
        "\n",
        "## LBP parameters\n",
        "Mlbp    = 59   # size of the LBP vector\n",
        "lbpDict = {'hdiv'    : 1,\n",
        "           'vdiv'    : 1,\n",
        "           'mapping' : 'nri_uniform'}\n",
        "\n",
        "## HoG parameters\n",
        "hogDict   = {'v_windows' : 16,  # number of vertical windows\n",
        "             'h_windows' : 10,  # number of horizontal windows\n",
        "             'n_bins'    : 9}   # number of bins\n",
        "\n",
        "## Number of channels: 3RGB + 3HSV\n",
        "channels = 6\n",
        "\n",
        "## Number of columns of feature matrices\n",
        "colsLBP   = Mlbp * lbpDict['hdiv'] * lbpDict['vdiv']\n",
        "colsHog   = hogDict['v_windows'] * hogDict['h_windows'] * hogDict['n_bins']\n",
        "\n",
        "## Column names for dataFrame\n",
        "colsLBP_names = [f'lbp_{i%colsLBP+1}_{[\"r\",\"g\",\"b\",\"h\",\"s\",\"v\"][i//colsLBP]}' for i in range(colsLBP*channels)]\n",
        "colsHog_names = [f'hog_{i%colsHog+1}_{[\"r\",\"g\",\"b\",\"h\",\"s\",\"v\"][i//colsHog]}' for i in range(colsHog*channels)]\n",
        "\n",
        "## Start loop\n",
        "for setName in ['train', 'val', 'test']:\n",
        "  if preLoad:\n",
        "    print(\"Features already loaded\")\n",
        "    break\n",
        "\n",
        "  print(f'Loading images and extracting features for {setName} set...')\n",
        "  for j in range(K):\n",
        "\n",
        "    ## Initialize DataFrame\n",
        "    df = pd.DataFrame(columns=('name','set','class',*colsLBP_names, *colsHog_names, 'roundness', 'danielsson_factor','eccentricity'))\n",
        "    loc = 0\n",
        "\n",
        "    # Get list of image filenames\n",
        "    imgsToLoad = getImageList('ISIC',setName,j)\n",
        "\n",
        "    print(f'Extracting features: class {j+1}/{K}')\n",
        "    for i in tqdm(range(N[setName])):\n",
        "      # Initialize Row\n",
        "      newRow = [imgsToLoad[i], setName, j]\n",
        "      \n",
        "      # Read image, remove hair and segment lesion\n",
        "      img     = 255*remove_hair(ImageLoad(setName, j, imgsToLoad[i]))\n",
        "      segmented_lesion = segment_lesion(img).astype(int)\n",
        "\n",
        "      # Stack HSV image as 3 additional channels\n",
        "      img_hsv = rgb2hsv(img)\n",
        "      img = np.dstack((img,img_hsv))\n",
        "\n",
        "      # Initialize feature vectors\n",
        "      newLbp   = np.array([0])\n",
        "      newHog   = np.array([0])\n",
        "\n",
        "      for channel in range(img.shape[2]):\n",
        "        # Classic LBP\n",
        "        f        = lbp_features(img[:,:,channel], **lbpDict)\n",
        "        newLbp   = np.concatenate((newLbp,f))\n",
        "\n",
        "        # Histogram of gradients (HoG)\n",
        "        f        = hog_features(img[:,:,channel], **hogDict)\n",
        "        newHog   = np.concatenate((newHog,f))\n",
        "\n",
        "      # Obtain basic geometric features of lesion\n",
        "      basic_features = basic_geo_features(segmented_lesion)\n",
        "\n",
        "      # Keep only: Roundness, Danielsson factor and Eccentricity\n",
        "      basic_features = basic_features[[6,7,15]]\n",
        "\n",
        "      # Add row\n",
        "      newRow = newRow + list(newLbp[1:]) + list(newHog[1:]) + list(basic_features)\n",
        "      df.loc[loc] = newRow\n",
        "      loc += 1  \n",
        "\n",
        "    df.to_csv(f'skin_{setName}_{j}.csv', index=False)\n",
        "    files.download(f'skin_{setName}_{j}.csv')\n",
        "\n",
        "# Join all DFs and download\n",
        "if not preLoad:\n",
        "  df = pd.DataFrame()\n",
        "\n",
        "  for setName in ['train', 'val', 'test']:\n",
        "    for j in range(K):\n",
        "      newDF = pd.read_csv(f'skin_{setName}_{j}.csv')\n",
        "      print(f\"Open skin_{setName}_{j}.csv, shape = {newDF.shape}\")\n",
        "\n",
        "      if df.size == 0:\n",
        "        df = newDF\n",
        "\n",
        "      else:\n",
        "        df = df.append(newDF,ignore_index=True)\n",
        "\n",
        "      print(f\"df shape = {df.shape}\")\n",
        "\n",
        "  print(\"Done!\")\n",
        "  df.to_csv(f'skin.csv', index=False)\n",
        "  files.download(f'skin.csv')"
      ],
      "execution_count": null,
      "outputs": [
        {
          "output_type": "stream",
          "text": [
            "Features already loaded\n"
          ],
          "name": "stdout"
        }
      ]
    },
    {
      "cell_type": "markdown",
      "metadata": {
        "id": "KW9rXCxK7f_O"
      },
      "source": [
        "# 4. Experiments\n",
        "\n",
        "All code snippets work independently.\n",
        "\n",
        "| Transformation/Selection | Classifier | Scoring <br> Method |  Accuracy | True Positive <br> Rate | True Negative <br> Rate |\n",
        "|:-:|:-:|:-:|:-:|:-:|:-:|\n",
        "| PLSR (500 components) | KNN (5 neighbors) | Holdout | 74.33% | 64.67% | 84.00% |\n",
        "| Random forest (500 trees) <br> 1000 selected | SVM (rbf) | Holdout | 72.67% | 59.33% | 86.00% \n",
        "| Random forest (500 trees) <br> 1000 selected | SVM (linear) | Holdout | 74.00% | 70.67% | 77.33% \n",
        "| Logistic Regression <br> 1000 selected | SVM (rbf) | Holdout | 73.33% | 64.67% | 82.00%\n",
        "| PLSR (500 components) | AdaBoost (Decision Tree) <br> 100 estimators, LR = 0.8 | Holdout | 69.33% | 64.67% | 74.00%\n",
        "| Random forest (500 trees) <br> 1000 selected | AdaBoost (Decision Tree) <br> 100 estimators, LR = 0.8 | Holdout | 72.67% | 69.33% | 76.00%\n",
        "| Random forest (500 trees) <br> 1000 selected | AdaBoost (SVM) <br> 100 estimators, LR = 0.8 | Holdout | 70.00% | 73.33% | 66.67%\n",
        "| PLSR (500 components) | AdaBoost(SVM)-KNN ensemble <br> rbf kernel, 100 estimators <br> LR = 0.8, 5 neighbors | Holdout | 53.67% | 98.00% | 9.33%\n",
        "| PLSR (500 components) | SVM-KNN-SVM ensemble <br> linear & rbf kernels, 5 neighbors| Holdout | 72.00% | 75.33% | 68.67%"
      ]
    },
    {
      "cell_type": "code",
      "metadata": {
        "id": "ifpmQFZfFnfj"
      },
      "source": [
        "skin_backup = skin.copy(deep = True)"
      ],
      "execution_count": 37,
      "outputs": []
    },
    {
      "cell_type": "code",
      "metadata": {
        "id": "sAuetu8-F_xD"
      },
      "source": [
        "skin = skin.iloc[:,:-3]"
      ],
      "execution_count": 38,
      "outputs": []
    },
    {
      "cell_type": "markdown",
      "metadata": {
        "id": "AdyREIVypQE1"
      },
      "source": [
        "## PSLR + KNN"
      ]
    },
    {
      "cell_type": "code",
      "metadata": {
        "colab": {
          "base_uri": "https://localhost:8080/",
          "height": 792
        },
        "id": "X0m0uifCpZOK",
        "outputId": "1a6ae591-26f8-4f47-e647-f3bc3b3949fc"
      },
      "source": [
        "from sklearn.cross_decomposition import PLSRegression  \n",
        "from sklearn.neighbors           import KNeighborsClassifier\n",
        "\n",
        "# Number of components and model creation\n",
        "n_components = 500\n",
        "plsr = PLSRegression(n_components=n_components)\n",
        "\n",
        "# Neighbors and classifier creation\n",
        "n_neighbors = 5\n",
        "knn = KNeighborsClassifier(n_neighbors=n_neighbors)\n",
        "\n",
        "# Run experiment\n",
        "experiment(skin, plsr,knn)"
      ],
      "execution_count": 39,
      "outputs": [
        {
          "output_type": "stream",
          "text": [
            "Training Accuracy = 93.85%\n",
            "Validation Accuracy = 75.00%\n",
            "\n",
            "True Positive Rate  (TPR) = 64.67%\n",
            "False Negative Rate (FNR) = 35.33%\n",
            "False Positive Rate (FPR) = 14.67%\n",
            "True Negative Rate  (TPR) = 85.33%\n",
            "\n",
            "Train Confusion Matrix\n"
          ],
          "name": "stdout"
        },
        {
          "output_type": "display_data",
          "data": {
            "image/png": "[encoded data removed]",
            "text/plain": [
              "<Figure size 432x288 with 1 Axes>"
            ]
          },
          "metadata": {
            "tags": [],
            "needs_background": "light"
          }
        },
        {
          "output_type": "stream",
          "text": [
            "\n",
            "Validation Confusion Matrix\n"
          ],
          "name": "stdout"
        },
        {
          "output_type": "display_data",
          "data": {
            "image/png": "[encoded data removed]",
            "text/plain": [
              "<Figure size 432x288 with 1 Axes>"
            ]
          },
          "metadata": {
            "tags": [],
            "needs_background": "light"
          }
        }
      ]
    },
    {
      "cell_type": "markdown",
      "metadata": {
        "id": "18a2AudcvtHB"
      },
      "source": [
        "## Random forest + SVM"
      ]
    },
    {
      "cell_type": "code",
      "metadata": {
        "colab": {
          "base_uri": "https://localhost:8080/",
          "height": 792
        },
        "id": "B-WZxYI6uN5T",
        "outputId": "864b2a11-f65e-4df1-beec-e8000be4046b"
      },
      "source": [
        "from   sklearn.feature_selection import SelectFromModel\n",
        "from   sklearn.ensemble          import RandomForestClassifier\n",
        "from   sklearn.svm               import SVC\n",
        "\n",
        "# Number of trees, number of selected columns and model creation\n",
        "n_trees = 500\n",
        "n_sel   = 1000\n",
        "rf = SelectFromModel(RandomForestClassifier(n_estimators=n_trees, criterion='gini', random_state=0), max_features=n_sel)\n",
        "\n",
        "# SVM\n",
        "kernel = 'rbf'\n",
        "gamma = 'auto'\n",
        "C = 0.3\n",
        "svm = SVC(kernel = kernel, gamma=gamma, C=C, random_state=0)\n",
        "\n",
        "# Run experiment\n",
        "experiment(skin, rf, svm)"
      ],
      "execution_count": 40,
      "outputs": [
        {
          "output_type": "stream",
          "text": [
            "Training Accuracy = 75.04%\n",
            "Validation Accuracy = 72.33%\n",
            "\n",
            "True Positive Rate  (TPR) = 59.33%\n",
            "False Negative Rate (FNR) = 40.67%\n",
            "False Positive Rate (FPR) = 14.67%\n",
            "True Negative Rate  (TPR) = 85.33%\n",
            "\n",
            "Train Confusion Matrix\n"
          ],
          "name": "stdout"
        },
        {
          "output_type": "display_data",
          "data": {
            "image/png": "[encoded data removed]",
            "text/plain": [
              "<Figure size 432x288 with 1 Axes>"
            ]
          },
          "metadata": {
            "tags": [],
            "needs_background": "light"
          }
        },
        {
          "output_type": "stream",
          "text": [
            "\n",
            "Validation Confusion Matrix\n"
          ],
          "name": "stdout"
        },
        {
          "output_type": "display_data",
          "data": {
            "image/png": "[encoded data removed]",
            "text/plain": [
              "<Figure size 432x288 with 1 Axes>"
            ]
          },
          "metadata": {
            "tags": [],
            "needs_background": "light"
          }
        }
      ]
    },
    {
      "cell_type": "markdown",
      "metadata": {
        "id": "Wn6ODttw0muP"
      },
      "source": [
        "## Random forest + Linear-SVM"
      ]
    },
    {
      "cell_type": "code",
      "metadata": {
        "colab": {
          "base_uri": "https://localhost:8080/",
          "height": 792
        },
        "id": "rj5jtFkB0jZd",
        "outputId": "f0f7540a-a5e4-44f0-9e89-4718e7c06551"
      },
      "source": [
        "from   sklearn.feature_selection import SelectFromModel\n",
        "from   sklearn.ensemble          import RandomForestClassifier\n",
        "from   sklearn.svm               import LinearSVC\n",
        "\n",
        "# Number of trees, number of selected columns and model creation\n",
        "n_trees = 500\n",
        "n_sel   = 1000\n",
        "rf = SelectFromModel(RandomForestClassifier(n_estimators=n_trees, criterion='gini', random_state = 0), max_features=n_sel)\n",
        "\n",
        "# SVM\n",
        "C = 0.3\n",
        "svm = LinearSVC(C=C, random_state=0)\n",
        "\n",
        "# Run experiment\n",
        "experiment(skin, rf, svm)"
      ],
      "execution_count": 41,
      "outputs": [
        {
          "output_type": "stream",
          "text": [
            "Training Accuracy = 89.19%\n",
            "Validation Accuracy = 74.67%\n",
            "\n",
            "True Positive Rate  (TPR) = 73.33%\n",
            "False Negative Rate (FNR) = 26.67%\n",
            "False Positive Rate (FPR) = 24.00%\n",
            "True Negative Rate  (TPR) = 76.00%\n",
            "\n",
            "Train Confusion Matrix\n"
          ],
          "name": "stdout"
        },
        {
          "output_type": "display_data",
          "data": {
            "image/png": "[encoded data removed]",
            "text/plain": [
              "<Figure size 432x288 with 1 Axes>"
            ]
          },
          "metadata": {
            "tags": [],
            "needs_background": "light"
          }
        },
        {
          "output_type": "stream",
          "text": [
            "\n",
            "Validation Confusion Matrix\n"
          ],
          "name": "stdout"
        },
        {
          "output_type": "display_data",
          "data": {
            "image/png": "[encoded data removed]",
            "text/plain": [
              "<Figure size 432x288 with 1 Axes>"
            ]
          },
          "metadata": {
            "tags": [],
            "needs_background": "light"
          }
        }
      ]
    },
    {
      "cell_type": "markdown",
      "metadata": {
        "id": "74lilTdH2a-m"
      },
      "source": [
        "## LogisticRegression + SVM"
      ]
    },
    {
      "cell_type": "code",
      "metadata": {
        "colab": {
          "base_uri": "https://localhost:8080/",
          "height": 792
        },
        "id": "tjcnvFFl1v5S",
        "outputId": "59a521cd-fa73-4b30-8ca1-be5638afece6"
      },
      "source": [
        "from sklearn.feature_selection import SelectFromModel\n",
        "from sklearn.linear_model      import LogisticRegression\n",
        "from sklearn.svm               import SVC\n",
        "\n",
        "# Number of trees, number of selected columns and model creation\n",
        "penalty = 'l2'\n",
        "n_sel   = 1000\n",
        "logit = SelectFromModel(LogisticRegression(penalty=penalty, random_state=0), max_features=n_sel)\n",
        "\n",
        "# SVM\n",
        "kernel = 'rbf'\n",
        "gamma = 'auto'\n",
        "C = 0.3\n",
        "svm = SVC(kernel = kernel, gamma=gamma, C=C, random_state=0)\n",
        "\n",
        "# Run experiment\n",
        "experiment(skin, logit, svm)"
      ],
      "execution_count": 42,
      "outputs": [
        {
          "output_type": "stream",
          "text": [
            "Training Accuracy = 74.44%\n",
            "Validation Accuracy = 72.67%\n",
            "\n",
            "True Positive Rate  (TPR) = 64.67%\n",
            "False Negative Rate (FNR) = 35.33%\n",
            "False Positive Rate (FPR) = 19.33%\n",
            "True Negative Rate  (TPR) = 80.67%\n",
            "\n",
            "Train Confusion Matrix\n"
          ],
          "name": "stdout"
        },
        {
          "output_type": "display_data",
          "data": {
            "image/png": "[encoded data removed]",
            "text/plain": [
              "<Figure size 432x288 with 1 Axes>"
            ]
          },
          "metadata": {
            "tags": [],
            "needs_background": "light"
          }
        },
        {
          "output_type": "stream",
          "text": [
            "\n",
            "Validation Confusion Matrix\n"
          ],
          "name": "stdout"
        },
        {
          "output_type": "display_data",
          "data": {
            "image/png": "[encoded data removed]",
            "text/plain": [
              "<Figure size 432x288 with 1 Axes>"
            ]
          },
          "metadata": {
            "tags": [],
            "needs_background": "light"
          }
        }
      ]
    },
    {
      "cell_type": "markdown",
      "metadata": {
        "id": "zgHHR2Fc4JlN"
      },
      "source": [
        "## PLSR + AdaBoost"
      ]
    },
    {
      "cell_type": "code",
      "metadata": {
        "id": "YYUzsaCE4QUc"
      },
      "source": [
        "from sklearn.cross_decomposition import PLSRegression  \n",
        "from sklearn.ensemble            import AdaBoostClassifier\n",
        "\n",
        "# Number of components and model creation\n",
        "n_components = 500\n",
        "plsr = PLSRegression(n_components=n_components)\n",
        "\n",
        "# Adaboost\n",
        "n_estimators  = 100\n",
        "learning_rate = 0.8\n",
        "ada = AdaBoostClassifier(n_estimators=n_estimators, learning_rate = learning_rate, random_state = 0)\n",
        "\n",
        "# Run experiment\n",
        "experiment(skin, plsr, ada)"
      ],
      "execution_count": null,
      "outputs": []
    },
    {
      "cell_type": "markdown",
      "metadata": {
        "id": "Wkv4LLriFGFS"
      },
      "source": [
        "## Random forest + AdaBoost"
      ]
    },
    {
      "cell_type": "code",
      "metadata": {
        "colab": {
          "base_uri": "https://localhost:8080/",
          "height": 792
        },
        "id": "DDC38I74FIVh",
        "outputId": "872cc2b4-2fd6-4242-f889-e080de244838"
      },
      "source": [
        "from sklearn.feature_selection import SelectFromModel\n",
        "from sklearn.ensemble          import RandomForestClassifier, AdaBoostClassifier\n",
        "\n",
        "# Number of trees, number of selected columns and model creation\n",
        "n_trees = 500\n",
        "n_sel   = 1000\n",
        "rf = SelectFromModel(RandomForestClassifier(n_estimators=n_trees, criterion='gini', random_state = 0), max_features=n_sel)\n",
        "\n",
        "# Adaboost\n",
        "n_estimators  = 100\n",
        "learning_rate = 0.8\n",
        "ada = AdaBoostClassifier(n_estimators=n_estimators, learning_rate = learning_rate, random_state = 0)\n",
        "\n",
        "# Run experiment\n",
        "experiment(skin, rf, ada)"
      ],
      "execution_count": 44,
      "outputs": [
        {
          "output_type": "stream",
          "text": [
            "Training Accuracy = 88.15%\n",
            "Validation Accuracy = 72.33%\n",
            "\n",
            "True Positive Rate  (TPR) = 71.33%\n",
            "False Negative Rate (FNR) = 28.67%\n",
            "False Positive Rate (FPR) = 26.67%\n",
            "True Negative Rate  (TPR) = 73.33%\n",
            "\n",
            "Train Confusion Matrix\n"
          ],
          "name": "stdout"
        },
        {
          "output_type": "display_data",
          "data": {
            "image/png": "[encoded data removed]",
            "text/plain": [
              "<Figure size 432x288 with 1 Axes>"
            ]
          },
          "metadata": {
            "tags": [],
            "needs_background": "light"
          }
        },
        {
          "output_type": "stream",
          "text": [
            "\n",
            "Validation Confusion Matrix\n"
          ],
          "name": "stdout"
        },
        {
          "output_type": "display_data",
          "data": {
            "image/png": "[encoded data removed]",
            "text/plain": [
              "<Figure size 432x288 with 1 Axes>"
            ]
          },
          "metadata": {
            "tags": [],
            "needs_background": "light"
          }
        }
      ]
    },
    {
      "cell_type": "markdown",
      "metadata": {
        "id": "aDI6Hfmk5EGT"
      },
      "source": [
        "## Random forest + AdaBoost (SVM)"
      ]
    },
    {
      "cell_type": "code",
      "metadata": {
        "id": "VoDPIXVf5TBp"
      },
      "source": [
        "from sklearn.feature_selection import SelectFromModel\n",
        "from sklearn.ensemble          import RandomForestClassifier, AdaBoostClassifier\n",
        "from sklearn.svm               import SVC\n",
        "\n",
        "# Number of trees, number of selected columns and model creation\n",
        "n_trees = 500\n",
        "n_sel   = 1000\n",
        "rf = SelectFromModel(RandomForestClassifier(n_estimators=n_trees, criterion='gini', random_state = 0), max_features=n_sel)\n",
        "\n",
        "# SVM\n",
        "kernel = 'rbf'\n",
        "gamma = 'auto'\n",
        "C = 0.3\n",
        "svm = SVC(kernel = kernel, gamma=gamma, C=C, random_state=0)\n",
        "\n",
        "n_estimators  = 100\n",
        "learning_rate = 0.8\n",
        "ada = AdaBoostClassifier(base_estimator=svm, n_estimators=n_estimators, learning_rate = learning_rate, algorithm='SAMME', random_state = 0)\n",
        "\n",
        "# Run experiment\n",
        "experiment(skin, rf, ada)"
      ],
      "execution_count": null,
      "outputs": []
    },
    {
      "cell_type": "markdown",
      "metadata": {
        "id": "57J6mwMFGN_p"
      },
      "source": [
        "## PLSR + AdaBoost(SVM)-KNN Ensemble"
      ]
    },
    {
      "cell_type": "code",
      "metadata": {
        "id": "ToBxYvZVGTtO"
      },
      "source": [
        "from sklearn.cross_decomposition import PLSRegression\n",
        "from sklearn.ensemble            import RandomForestClassifier, AdaBoostClassifier, VotingClassifier\n",
        "from sklearn.svm                 import SVC\n",
        "from sklearn.neighbors           import KNeighborsClassifier\n",
        "\n",
        "# Number of trees, number of selected columns and model creation\n",
        "n_trees = 500\n",
        "n_sel   = 500\n",
        "rf = SelectFromModel(RandomForestClassifier(n_estimators=n_trees, criterion='gini', random_state = 0), max_features=n_sel)\n",
        "\n",
        "# Number of components and model creation\n",
        "n_components = 500\n",
        "plsr = PLSRegression(n_components=n_components)\n",
        "\n",
        "# Neighbors and classifier creation\n",
        "n_neighbors = 5\n",
        "knn = KNeighborsClassifier(n_neighbors=n_neighbors)\n",
        "\n",
        "# SVM\n",
        "kernel = 'rbf'\n",
        "gamma = 'auto'\n",
        "C = 0.3\n",
        "svm = SVC(kernel = kernel, gamma=gamma, C=C, random_state=0)\n",
        "\n",
        "n_estimators  = 100\n",
        "learning_rate = 0.8\n",
        "ada = AdaBoostClassifier(base_estimator=svm, n_estimators=n_estimators, learning_rate = learning_rate, algorithm='SAMME', random_state = 0)\n",
        "\n",
        "# Voting classifier\n",
        "vote = VotingClassifier(estimators=[('knn',knn),('ada',ada)], n_jobs=-1)\n",
        "\n",
        "# Run experiment\n",
        "experiment(skin, plsr, vote)"
      ],
      "execution_count": null,
      "outputs": []
    },
    {
      "cell_type": "markdown",
      "metadata": {
        "id": "Fz5eOATX6B2N"
      },
      "source": [
        "## PLSR + SVM-KNN-RF Ensemble"
      ]
    },
    {
      "cell_type": "code",
      "metadata": {
        "id": "5crN9R3-tyRr"
      },
      "source": [
        "from sklearn.cross_decomposition import PLSRegression\n",
        "from sklearn.ensemble            import RandomForestClassifier, VotingClassifier\n",
        "from sklearn.svm                 import SVC\n",
        "from sklearn.neighbors           import KNeighborsClassifier\n",
        "\n",
        "# Number of trees, number of selected columns and model creation\n",
        "n_trees = 500\n",
        "rf = RandomForestClassifier(n_estimators=n_trees, criterion='gini', random_state = 0)\n",
        "\n",
        "# Number of components and model creation\n",
        "n_components = 500\n",
        "plsr = PLSRegression(n_components=n_components)\n",
        "\n",
        "# Neighbors and classifier creation\n",
        "n_neighbors = 5\n",
        "knn = KNeighborsClassifier(n_neighbors=n_neighbors)\n",
        "\n",
        "# SVM\n",
        "kernel = 'rbf'\n",
        "gamma = 'auto'\n",
        "C = 0.3\n",
        "svm = SVC(kernel = kernel, gamma=gamma, C=C, random_state=0)\n",
        "\n",
        "# Random forest\n",
        "n_trees = 500\n",
        "rf = RandomForestClassifier(n_estimators=n_trees, criterion='gini', random_state = 0)\n",
        "\n",
        "# Voting classifier\n",
        "vote = VotingClassifier(estimators=[('knn',knn),('svc',svm), ('rf', rf)], n_jobs=-1)\n",
        "\n",
        "# Run experiment\n",
        "experiment(skin, plsr, vote)"
      ],
      "execution_count": null,
      "outputs": []
    },
    {
      "cell_type": "markdown",
      "metadata": {
        "id": "gGHrefpyCDnG"
      },
      "source": [
        "## PLSR + SVM (rbf)-SVV (linear)-KNN Ensemble"
      ]
    },
    {
      "cell_type": "code",
      "metadata": {
        "id": "HVLYMFYLCLWu"
      },
      "source": [
        "from sklearn.cross_decomposition import PLSRegression\n",
        "from sklearn.ensemble            import RandomForestClassifier, VotingClassifier\n",
        "from sklearn.svm                 import SVC, LinearSVC\n",
        "from sklearn.neighbors           import KNeighborsClassifier\n",
        "\n",
        "# Number of trees, number of selected columns and model creation\n",
        "n_trees = 500\n",
        "rf = RandomForestClassifier(n_estimators=n_trees, criterion='gini', random_state = 0)\n",
        "\n",
        "# Number of components and model creation\n",
        "n_components = 500\n",
        "plsr = PLSRegression(n_components=n_components)\n",
        "\n",
        "# Neighbors and classifier creation\n",
        "n_neighbors = 5\n",
        "knn = KNeighborsClassifier(n_neighbors=n_neighbors)\n",
        "\n",
        "# SVM rbf\n",
        "kernel = 'rbf'\n",
        "gamma = 'auto'\n",
        "C = 0.3\n",
        "svm_rbf = SVC(kernel = kernel, gamma=gamma, C=C, random_state=0)\n",
        "\n",
        "# SVM\n",
        "C = 0.3\n",
        "svm_linear = LinearSVC(C=C, random_state=0)\n",
        "\n",
        "# Voting classifier\n",
        "vote = VotingClassifier(estimators=[('knn',knn),('svc_rbf',svm_rbf), ('svc_linear', svm_linear)], n_jobs=-1)\n",
        "\n",
        "# Run experiment\n",
        "experiment(skin, plsr, vote)"
      ],
      "execution_count": null,
      "outputs": []
    }
  ]
}